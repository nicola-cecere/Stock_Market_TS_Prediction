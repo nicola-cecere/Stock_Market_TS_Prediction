{
 "cells": [
  {
   "cell_type": "code",
   "execution_count": 20,
   "metadata": {
    "ExecuteTime": {
     "end_time": "2023-11-08T15:07:59.561242Z",
     "start_time": "2023-11-08T15:07:57.717884Z"
    }
   },
   "outputs": [],
   "source": [
    "import pandas as pd\n",
    "file_path = 'data/sp500/SP500.csv'\n",
    "df = pd.read_csv(file_path)\n",
    "df['Date'] = pd.to_datetime(df['Date'])"
   ]
  },
  {
   "cell_type": "code",
   "execution_count": 35,
   "outputs": [
    {
     "data": {
      "text/plain": "              Low                  Open                   Volume  \\\n             mean        std       mean        std          mean   \nTicker                                                             \nA       44.378031  35.131543  44.956648  35.525085  3.455684e+06   \nAAL     24.942728  15.708710  25.441034  15.905032  1.437739e+07   \nAAP     90.334993  60.561938  91.457988  61.302219  1.172943e+06   \nAAPL    16.141083  34.495971  16.323966  34.904787  3.279583e+08   \nABBV    81.142782  29.850621  82.029305  30.133433  7.769110e+06   \n\n                           High                 Close             \\\n                 std       mean        std       mean        std   \nTicker                                                             \nA       2.433841e+06  45.534710  35.886952  44.966740  35.509658   \nAAL     2.196859e+07  25.909781  16.091607  25.414120  15.904093   \nAAP     9.537524e+05  92.530779  61.976656  91.452945  61.282001   \nAAPL    3.379551e+08  16.509548  35.327844  16.332137  34.928463   \nABBV    5.227982e+06  82.931006  30.467865  82.075123  30.188153   \n\n       Adjusted Close             \n                 mean        std  \nTicker                            \nA           42.495033  35.888440  \nAAL         24.446001  15.236071  \nAAP         86.724267  59.505816  \nAAPL        15.660945  34.596768  \nABBV        69.383165  33.760089  ",
      "text/html": "<div>\n<style scoped>\n    .dataframe tbody tr th:only-of-type {\n        vertical-align: middle;\n    }\n\n    .dataframe tbody tr th {\n        vertical-align: top;\n    }\n\n    .dataframe thead tr th {\n        text-align: left;\n    }\n\n    .dataframe thead tr:last-of-type th {\n        text-align: right;\n    }\n</style>\n<table border=\"1\" class=\"dataframe\">\n  <thead>\n    <tr>\n      <th></th>\n      <th colspan=\"2\" halign=\"left\">Low</th>\n      <th colspan=\"2\" halign=\"left\">Open</th>\n      <th colspan=\"2\" halign=\"left\">Volume</th>\n      <th colspan=\"2\" halign=\"left\">High</th>\n      <th colspan=\"2\" halign=\"left\">Close</th>\n      <th colspan=\"2\" halign=\"left\">Adjusted Close</th>\n    </tr>\n    <tr>\n      <th></th>\n      <th>mean</th>\n      <th>std</th>\n      <th>mean</th>\n      <th>std</th>\n      <th>mean</th>\n      <th>std</th>\n      <th>mean</th>\n      <th>std</th>\n      <th>mean</th>\n      <th>std</th>\n      <th>mean</th>\n      <th>std</th>\n    </tr>\n    <tr>\n      <th>Ticker</th>\n      <th></th>\n      <th></th>\n      <th></th>\n      <th></th>\n      <th></th>\n      <th></th>\n      <th></th>\n      <th></th>\n      <th></th>\n      <th></th>\n      <th></th>\n      <th></th>\n    </tr>\n  </thead>\n  <tbody>\n    <tr>\n      <th>A</th>\n      <td>44.378031</td>\n      <td>35.131543</td>\n      <td>44.956648</td>\n      <td>35.525085</td>\n      <td>3.455684e+06</td>\n      <td>2.433841e+06</td>\n      <td>45.534710</td>\n      <td>35.886952</td>\n      <td>44.966740</td>\n      <td>35.509658</td>\n      <td>42.495033</td>\n      <td>35.888440</td>\n    </tr>\n    <tr>\n      <th>AAL</th>\n      <td>24.942728</td>\n      <td>15.708710</td>\n      <td>25.441034</td>\n      <td>15.905032</td>\n      <td>1.437739e+07</td>\n      <td>2.196859e+07</td>\n      <td>25.909781</td>\n      <td>16.091607</td>\n      <td>25.414120</td>\n      <td>15.904093</td>\n      <td>24.446001</td>\n      <td>15.236071</td>\n    </tr>\n    <tr>\n      <th>AAP</th>\n      <td>90.334993</td>\n      <td>60.561938</td>\n      <td>91.457988</td>\n      <td>61.302219</td>\n      <td>1.172943e+06</td>\n      <td>9.537524e+05</td>\n      <td>92.530779</td>\n      <td>61.976656</td>\n      <td>91.452945</td>\n      <td>61.282001</td>\n      <td>86.724267</td>\n      <td>59.505816</td>\n    </tr>\n    <tr>\n      <th>AAPL</th>\n      <td>16.141083</td>\n      <td>34.495971</td>\n      <td>16.323966</td>\n      <td>34.904787</td>\n      <td>3.279583e+08</td>\n      <td>3.379551e+08</td>\n      <td>16.509548</td>\n      <td>35.327844</td>\n      <td>16.332137</td>\n      <td>34.928463</td>\n      <td>15.660945</td>\n      <td>34.596768</td>\n    </tr>\n    <tr>\n      <th>ABBV</th>\n      <td>81.142782</td>\n      <td>29.850621</td>\n      <td>82.029305</td>\n      <td>30.133433</td>\n      <td>7.769110e+06</td>\n      <td>5.227982e+06</td>\n      <td>82.931006</td>\n      <td>30.467865</td>\n      <td>82.075123</td>\n      <td>30.188153</td>\n      <td>69.383165</td>\n      <td>33.760089</td>\n    </tr>\n  </tbody>\n</table>\n</div>"
     },
     "execution_count": 35,
     "metadata": {},
     "output_type": "execute_result"
    }
   ],
   "source": [
    "# Media e standard deviation di ogni valore numerico per ogni ticker\n",
    "grouped_stats = df.groupby('Ticker').agg(['mean', 'std'])\n",
    "grouped_stats.drop(columns=('Date',), axis=1, inplace=True, errors='ignore')  # Droppo la data (colonna non numerica)\n",
    "\n",
    "grouped_stats.head()"
   ],
   "metadata": {
    "collapsed": false,
    "ExecuteTime": {
     "end_time": "2023-11-08T15:28:55.524785Z",
     "start_time": "2023-11-08T15:28:55.015983Z"
    }
   }
  },
  {
   "cell_type": "code",
   "execution_count": 38,
   "outputs": [],
   "source": [
    "numerical_columns = ['Low', 'Open', 'Volume', 'High', 'Close', 'Adjusted Close']\n",
    "outlier_log = []\n",
    "\n",
    "# Cerco gli outliers iterando su ogni colonna per ogni ticker e calcolo media e std\n",
    "for col in numerical_columns:\n",
    "    for ticker in df['Ticker'].unique():\n",
    "        mean = grouped_stats.loc[ticker, (col, 'mean')]\n",
    "        std = grouped_stats.loc[ticker, (col, 'std')]\n",
    "\n",
    "        # Definisco outlier con z-score con coeff 5\n",
    "        outlier_condition = abs(df.loc[df['Ticker'] == ticker, col] - mean) > (5 * std)\n",
    "\n",
    "        # Salvo gli outliers per controllare\n",
    "        outliers = df.loc[df['Ticker'] == ticker, col][outlier_condition]\n",
    "        for index, value in outliers.items():\n",
    "            outlier_log.append({\n",
    "                'Index': index,\n",
    "                'Ticker': ticker,\n",
    "                'Column': col,\n",
    "                'OriginalValue': value\n",
    "            })\n",
    "\n",
    "outlier_log_df = pd.DataFrame(outlier_log)"
   ],
   "metadata": {
    "collapsed": false,
    "ExecuteTime": {
     "end_time": "2023-11-08T16:23:03.204719Z",
     "start_time": "2023-11-08T16:16:36.244024Z"
    }
   }
  },
  {
   "cell_type": "code",
   "execution_count": 39,
   "outputs": [
    {
     "data": {
      "text/plain": "         Index Ticker          Column  OriginalValue\n0       136470   AKAM             Low     268.000000\n1       136471   AKAM             Low     282.937500\n2       136472   AKAM             Low     290.250000\n3       136473   AKAM             Low     287.687500\n4       136474   AKAM             Low     274.250000\n...        ...    ...             ...            ...\n15436  3187039    WST  Adjusted Close     444.844208\n15437  3221908  XLEFF  Adjusted Close       0.802900\n15438  3221909  XLEFF  Adjusted Close       0.802900\n15439  3221910  XLEFF  Adjusted Close       0.802900\n15440  3221911  XLEFF  Adjusted Close       0.802900\n\n[15441 rows x 4 columns]",
      "text/html": "<div>\n<style scoped>\n    .dataframe tbody tr th:only-of-type {\n        vertical-align: middle;\n    }\n\n    .dataframe tbody tr th {\n        vertical-align: top;\n    }\n\n    .dataframe thead th {\n        text-align: right;\n    }\n</style>\n<table border=\"1\" class=\"dataframe\">\n  <thead>\n    <tr style=\"text-align: right;\">\n      <th></th>\n      <th>Index</th>\n      <th>Ticker</th>\n      <th>Column</th>\n      <th>OriginalValue</th>\n    </tr>\n  </thead>\n  <tbody>\n    <tr>\n      <th>0</th>\n      <td>136470</td>\n      <td>AKAM</td>\n      <td>Low</td>\n      <td>268.000000</td>\n    </tr>\n    <tr>\n      <th>1</th>\n      <td>136471</td>\n      <td>AKAM</td>\n      <td>Low</td>\n      <td>282.937500</td>\n    </tr>\n    <tr>\n      <th>2</th>\n      <td>136472</td>\n      <td>AKAM</td>\n      <td>Low</td>\n      <td>290.250000</td>\n    </tr>\n    <tr>\n      <th>3</th>\n      <td>136473</td>\n      <td>AKAM</td>\n      <td>Low</td>\n      <td>287.687500</td>\n    </tr>\n    <tr>\n      <th>4</th>\n      <td>136474</td>\n      <td>AKAM</td>\n      <td>Low</td>\n      <td>274.250000</td>\n    </tr>\n    <tr>\n      <th>...</th>\n      <td>...</td>\n      <td>...</td>\n      <td>...</td>\n      <td>...</td>\n    </tr>\n    <tr>\n      <th>15436</th>\n      <td>3187039</td>\n      <td>WST</td>\n      <td>Adjusted Close</td>\n      <td>444.844208</td>\n    </tr>\n    <tr>\n      <th>15437</th>\n      <td>3221908</td>\n      <td>XLEFF</td>\n      <td>Adjusted Close</td>\n      <td>0.802900</td>\n    </tr>\n    <tr>\n      <th>15438</th>\n      <td>3221909</td>\n      <td>XLEFF</td>\n      <td>Adjusted Close</td>\n      <td>0.802900</td>\n    </tr>\n    <tr>\n      <th>15439</th>\n      <td>3221910</td>\n      <td>XLEFF</td>\n      <td>Adjusted Close</td>\n      <td>0.802900</td>\n    </tr>\n    <tr>\n      <th>15440</th>\n      <td>3221911</td>\n      <td>XLEFF</td>\n      <td>Adjusted Close</td>\n      <td>0.802900</td>\n    </tr>\n  </tbody>\n</table>\n<p>15441 rows × 4 columns</p>\n</div>"
     },
     "execution_count": 39,
     "metadata": {},
     "output_type": "execute_result"
    }
   ],
   "source": [
    "outlier_log_df"
   ],
   "metadata": {
    "collapsed": false,
    "ExecuteTime": {
     "end_time": "2023-11-08T16:25:22.160362Z",
     "start_time": "2023-11-08T16:25:22.144721Z"
    }
   }
  },
  {
   "cell_type": "code",
   "execution_count": 40,
   "outputs": [],
   "source": [
    "# Troppi outliers, provo ad analizzare in batch temporali di 10 anni\n",
    "\n",
    "from typing import List\n",
    "\n",
    "def remove_outliers_in_batches(df: pd.DataFrame, columns: List[str], coefficient: int) -> pd.DataFrame:\n",
    "    # Copy of df\n",
    "    new_df = df.copy()\n",
    "\n",
    "    # Add columns to the new dataframe to flag outliers\n",
    "    for col in columns:\n",
    "        new_df[col + '_Outlier'] = False\n",
    "\n",
    "    # Process each ticker separately\n",
    "    for ticker in new_df['Ticker'].unique():\n",
    "        ticker_data = new_df[new_df['Ticker'] == ticker]\n",
    "        ticker_data = ticker_data.sort_values(by='Date')\n",
    "\n",
    "        # Get the range of years\n",
    "        start_year = ticker_data['Date'].dt.year.min()\n",
    "        end_year = ticker_data['Date'].dt.year.max()\n",
    "\n",
    "        # Process in batches of up to 10 years\n",
    "        for start in range(start_year, end_year, 10):\n",
    "            end = min(start + 10, end_year + 1)\n",
    "            batch = ticker_data[(ticker_data['Date'].dt.year >= start) & (ticker_data['Date'].dt.year < end)]\n",
    "\n",
    "            # Compute the mean and std dev for the batch\n",
    "            stats = batch[columns].agg(['mean', 'std'])\n",
    "\n",
    "            # Find and flag outliers in the batch\n",
    "            for col in columns:\n",
    "                mean = stats[col]['mean']\n",
    "                std = stats[col]['std']\n",
    "                outlier_condition = abs(batch[col] - mean) > (coefficient * std)\n",
    "                batch_indices = batch[outlier_condition].index\n",
    "                new_df.loc[batch_indices, col + '_Outlier'] = True\n",
    "\n",
    "    return new_df"
   ],
   "metadata": {
    "collapsed": false,
    "ExecuteTime": {
     "end_time": "2023-11-08T16:57:21.654624Z",
     "start_time": "2023-11-08T16:57:21.650994Z"
    }
   }
  },
  {
   "cell_type": "code",
   "execution_count": 42,
   "outputs": [
    {
     "data": {
      "text/plain": "  Ticker       Date        Low       Open      Volume       High      Close  \\\n0      A 1999-11-18  28.612303  32.546494  62546380.0  35.765381  31.473534   \n1      A 1999-11-19  28.478184  30.713518  15234146.0  30.758226  28.880545   \n2      A 1999-11-22  28.657009  29.551144   6577870.0  31.473534  31.473534   \n3      A 1999-11-23  28.612303  30.400572   5975611.0  31.205294  28.612303   \n4      A 1999-11-24  28.612303  28.701717   4843231.0  29.998213  29.372318   \n\n   Adjusted Close  Low_Outlier  Open_Outlier  Volume_Outlier  High_Outlier  \\\n0       26.929760        False         False            True         False   \n1       24.711119        False         False           False         False   \n2       26.929760        False         False           False         False   \n3       24.481602        False         False           False         False   \n4       25.131901        False         False           False         False   \n\n   Close_Outlier  Adjusted Close_Outlier  \n0          False                   False  \n1          False                   False  \n2          False                   False  \n3          False                   False  \n4          False                   False  ",
      "text/html": "<div>\n<style scoped>\n    .dataframe tbody tr th:only-of-type {\n        vertical-align: middle;\n    }\n\n    .dataframe tbody tr th {\n        vertical-align: top;\n    }\n\n    .dataframe thead th {\n        text-align: right;\n    }\n</style>\n<table border=\"1\" class=\"dataframe\">\n  <thead>\n    <tr style=\"text-align: right;\">\n      <th></th>\n      <th>Ticker</th>\n      <th>Date</th>\n      <th>Low</th>\n      <th>Open</th>\n      <th>Volume</th>\n      <th>High</th>\n      <th>Close</th>\n      <th>Adjusted Close</th>\n      <th>Low_Outlier</th>\n      <th>Open_Outlier</th>\n      <th>Volume_Outlier</th>\n      <th>High_Outlier</th>\n      <th>Close_Outlier</th>\n      <th>Adjusted Close_Outlier</th>\n    </tr>\n  </thead>\n  <tbody>\n    <tr>\n      <th>0</th>\n      <td>A</td>\n      <td>1999-11-18</td>\n      <td>28.612303</td>\n      <td>32.546494</td>\n      <td>62546380.0</td>\n      <td>35.765381</td>\n      <td>31.473534</td>\n      <td>26.929760</td>\n      <td>False</td>\n      <td>False</td>\n      <td>True</td>\n      <td>False</td>\n      <td>False</td>\n      <td>False</td>\n    </tr>\n    <tr>\n      <th>1</th>\n      <td>A</td>\n      <td>1999-11-19</td>\n      <td>28.478184</td>\n      <td>30.713518</td>\n      <td>15234146.0</td>\n      <td>30.758226</td>\n      <td>28.880545</td>\n      <td>24.711119</td>\n      <td>False</td>\n      <td>False</td>\n      <td>False</td>\n      <td>False</td>\n      <td>False</td>\n      <td>False</td>\n    </tr>\n    <tr>\n      <th>2</th>\n      <td>A</td>\n      <td>1999-11-22</td>\n      <td>28.657009</td>\n      <td>29.551144</td>\n      <td>6577870.0</td>\n      <td>31.473534</td>\n      <td>31.473534</td>\n      <td>26.929760</td>\n      <td>False</td>\n      <td>False</td>\n      <td>False</td>\n      <td>False</td>\n      <td>False</td>\n      <td>False</td>\n    </tr>\n    <tr>\n      <th>3</th>\n      <td>A</td>\n      <td>1999-11-23</td>\n      <td>28.612303</td>\n      <td>30.400572</td>\n      <td>5975611.0</td>\n      <td>31.205294</td>\n      <td>28.612303</td>\n      <td>24.481602</td>\n      <td>False</td>\n      <td>False</td>\n      <td>False</td>\n      <td>False</td>\n      <td>False</td>\n      <td>False</td>\n    </tr>\n    <tr>\n      <th>4</th>\n      <td>A</td>\n      <td>1999-11-24</td>\n      <td>28.612303</td>\n      <td>28.701717</td>\n      <td>4843231.0</td>\n      <td>29.998213</td>\n      <td>29.372318</td>\n      <td>25.131901</td>\n      <td>False</td>\n      <td>False</td>\n      <td>False</td>\n      <td>False</td>\n      <td>False</td>\n      <td>False</td>\n    </tr>\n  </tbody>\n</table>\n</div>"
     },
     "execution_count": 42,
     "metadata": {},
     "output_type": "execute_result"
    }
   ],
   "source": [
    "# Run the outlier detection function\n",
    "coefficient = 5\n",
    "outlier_detected_df = remove_outliers_in_batches(df, numerical_columns, coefficient)\n",
    "\n",
    "# Show the results for the first few rows to verify the function's execution. Problem is that we don't care about \"False\" values\n",
    "outlier_detected_df.head()"
   ],
   "metadata": {
    "collapsed": false
   }
  },
  {
   "cell_type": "code",
   "execution_count": 46,
   "outputs": [
    {
     "data": {
      "text/plain": "      Ticker    Index   OutlierColumn  OutlierValue\n0          A        0          Volume  6.254638e+07\n1          A       73            High  1.158798e+02\n2          A       73           Close  1.137339e+02\n3          A       73  Adjusted Close  9.731437e+01\n4          A       74             Low  9.370529e+01\n...      ...      ...             ...           ...\n15881    ZTS  3263619          Volume  1.760100e+07\n15882    ZTS  3263774          Volume  2.913720e+07\n15883    ZTS  3263964          Volume  2.022850e+07\n15884    ZTS  3263965          Volume  2.141490e+07\n15885    ZTS  3264120          Volume  2.082330e+07\n\n[15886 rows x 4 columns]",
      "text/html": "<div>\n<style scoped>\n    .dataframe tbody tr th:only-of-type {\n        vertical-align: middle;\n    }\n\n    .dataframe tbody tr th {\n        vertical-align: top;\n    }\n\n    .dataframe thead th {\n        text-align: right;\n    }\n</style>\n<table border=\"1\" class=\"dataframe\">\n  <thead>\n    <tr style=\"text-align: right;\">\n      <th></th>\n      <th>Ticker</th>\n      <th>Index</th>\n      <th>OutlierColumn</th>\n      <th>OutlierValue</th>\n    </tr>\n  </thead>\n  <tbody>\n    <tr>\n      <th>0</th>\n      <td>A</td>\n      <td>0</td>\n      <td>Volume</td>\n      <td>6.254638e+07</td>\n    </tr>\n    <tr>\n      <th>1</th>\n      <td>A</td>\n      <td>73</td>\n      <td>High</td>\n      <td>1.158798e+02</td>\n    </tr>\n    <tr>\n      <th>2</th>\n      <td>A</td>\n      <td>73</td>\n      <td>Close</td>\n      <td>1.137339e+02</td>\n    </tr>\n    <tr>\n      <th>3</th>\n      <td>A</td>\n      <td>73</td>\n      <td>Adjusted Close</td>\n      <td>9.731437e+01</td>\n    </tr>\n    <tr>\n      <th>4</th>\n      <td>A</td>\n      <td>74</td>\n      <td>Low</td>\n      <td>9.370529e+01</td>\n    </tr>\n    <tr>\n      <th>...</th>\n      <td>...</td>\n      <td>...</td>\n      <td>...</td>\n      <td>...</td>\n    </tr>\n    <tr>\n      <th>15881</th>\n      <td>ZTS</td>\n      <td>3263619</td>\n      <td>Volume</td>\n      <td>1.760100e+07</td>\n    </tr>\n    <tr>\n      <th>15882</th>\n      <td>ZTS</td>\n      <td>3263774</td>\n      <td>Volume</td>\n      <td>2.913720e+07</td>\n    </tr>\n    <tr>\n      <th>15883</th>\n      <td>ZTS</td>\n      <td>3263964</td>\n      <td>Volume</td>\n      <td>2.022850e+07</td>\n    </tr>\n    <tr>\n      <th>15884</th>\n      <td>ZTS</td>\n      <td>3263965</td>\n      <td>Volume</td>\n      <td>2.141490e+07</td>\n    </tr>\n    <tr>\n      <th>15885</th>\n      <td>ZTS</td>\n      <td>3264120</td>\n      <td>Volume</td>\n      <td>2.082330e+07</td>\n    </tr>\n  </tbody>\n</table>\n<p>15886 rows × 4 columns</p>\n</div>"
     },
     "execution_count": 46,
     "metadata": {},
     "output_type": "execute_result"
    }
   ],
   "source": [
    "# Execute the snippet to collect outlier details\n",
    "outlier_details = []\n",
    "for index, row in outlier_detected_df.iterrows():\n",
    "    for col in numerical_columns: \n",
    "        if row[col + '_Outlier']:\n",
    "            outlier_details.append({\n",
    "                'Ticker': row['Ticker'],\n",
    "                'Index': index,\n",
    "                'OutlierColumn': col,\n",
    "                'OutlierValue': row[col]\n",
    "            })\n",
    "\n",
    "# Convert the list to a DataFrame\n",
    "outliers_summary_df = pd.DataFrame(outlier_details)\n",
    "\n",
    "# The summary contains only \"True\" outliers from outliers_detected_df\n",
    "outliers_summary_df"
   ],
   "metadata": {
    "collapsed": false,
    "ExecuteTime": {
     "end_time": "2023-11-08T17:11:47.209142Z",
     "start_time": "2023-11-08T17:10:45.100143Z"
    }
   }
  },
  {
   "cell_type": "code",
   "execution_count": 48,
   "outputs": [
    {
     "data": {
      "text/plain": "      Ticker    Index OutlierColumn  OutlierValue\n130      AAP    14091        Volume  1.974950e+07\n168     AAPL    20437        Volume  7.421641e+09\n269     ABMD    43273        Volume  1.094450e+07\n336      ACN    57699        Volume  8.965590e+07\n433      ADM    78152        Volume  5.241480e+07\n...      ...      ...           ...           ...\n15398    WRB  3162720        Volume  5.435891e+07\n15489    WST  3186631        Volume  1.649570e+07\n15551     WY  3201742        Volume  5.759470e+07\n15595    XEL  3212816        Volume  2.484980e+07\n15871    ZTS  3263516        Volume  6.678910e+07\n\n[284 rows x 4 columns]",
      "text/html": "<div>\n<style scoped>\n    .dataframe tbody tr th:only-of-type {\n        vertical-align: middle;\n    }\n\n    .dataframe tbody tr th {\n        vertical-align: top;\n    }\n\n    .dataframe thead th {\n        text-align: right;\n    }\n</style>\n<table border=\"1\" class=\"dataframe\">\n  <thead>\n    <tr style=\"text-align: right;\">\n      <th></th>\n      <th>Ticker</th>\n      <th>Index</th>\n      <th>OutlierColumn</th>\n      <th>OutlierValue</th>\n    </tr>\n  </thead>\n  <tbody>\n    <tr>\n      <th>130</th>\n      <td>AAP</td>\n      <td>14091</td>\n      <td>Volume</td>\n      <td>1.974950e+07</td>\n    </tr>\n    <tr>\n      <th>168</th>\n      <td>AAPL</td>\n      <td>20437</td>\n      <td>Volume</td>\n      <td>7.421641e+09</td>\n    </tr>\n    <tr>\n      <th>269</th>\n      <td>ABMD</td>\n      <td>43273</td>\n      <td>Volume</td>\n      <td>1.094450e+07</td>\n    </tr>\n    <tr>\n      <th>336</th>\n      <td>ACN</td>\n      <td>57699</td>\n      <td>Volume</td>\n      <td>8.965590e+07</td>\n    </tr>\n    <tr>\n      <th>433</th>\n      <td>ADM</td>\n      <td>78152</td>\n      <td>Volume</td>\n      <td>5.241480e+07</td>\n    </tr>\n    <tr>\n      <th>...</th>\n      <td>...</td>\n      <td>...</td>\n      <td>...</td>\n      <td>...</td>\n    </tr>\n    <tr>\n      <th>15398</th>\n      <td>WRB</td>\n      <td>3162720</td>\n      <td>Volume</td>\n      <td>5.435891e+07</td>\n    </tr>\n    <tr>\n      <th>15489</th>\n      <td>WST</td>\n      <td>3186631</td>\n      <td>Volume</td>\n      <td>1.649570e+07</td>\n    </tr>\n    <tr>\n      <th>15551</th>\n      <td>WY</td>\n      <td>3201742</td>\n      <td>Volume</td>\n      <td>5.759470e+07</td>\n    </tr>\n    <tr>\n      <th>15595</th>\n      <td>XEL</td>\n      <td>3212816</td>\n      <td>Volume</td>\n      <td>2.484980e+07</td>\n    </tr>\n    <tr>\n      <th>15871</th>\n      <td>ZTS</td>\n      <td>3263516</td>\n      <td>Volume</td>\n      <td>6.678910e+07</td>\n    </tr>\n  </tbody>\n</table>\n<p>284 rows × 4 columns</p>\n</div>"
     },
     "execution_count": 48,
     "metadata": {},
     "output_type": "execute_result"
    }
   ],
   "source": [
    "# This is good, but I want to check outliers within those previous ones comparing only between them to check for very \"wrong\" values\n",
    "rechecked_outliers = []\n",
    "\n",
    "# Group by 'Ticker' and 'OutlierColumn' to re-check the outliers within each subset\n",
    "grouped = outliers_summary_df.groupby(['Ticker', 'OutlierColumn'])\n",
    "\n",
    "for (ticker, col), group in grouped:\n",
    "    # Calculate mean and std for the outlier values in this group\n",
    "    mean = group['OutlierValue'].mean()\n",
    "    std = group['OutlierValue'].std()\n",
    "\n",
    "    # Use a coefficient of 3 to determine if any are still outliers\n",
    "    for index, row in group.iterrows():\n",
    "        if index > 0:\n",
    "            if abs(row['OutlierValue'] - mean) > 3 * std:\n",
    "                rechecked_outliers.append(row)\n",
    "\n",
    "# Convert the list to a DataFrame\n",
    "rechecked_outliers_df = pd.DataFrame(rechecked_outliers)\n",
    "\n",
    "# Now `rechecked_outliers_df` contains the re-checked outliers, which are the very offset values\n",
    "rechecked_outliers_df"
   ],
   "metadata": {
    "collapsed": false,
    "ExecuteTime": {
     "end_time": "2023-11-08T17:17:58.189400Z",
     "start_time": "2023-11-08T17:17:57.934845Z"
    }
   }
  }
 ],
 "metadata": {
  "kernelspec": {
   "display_name": "Python 3",
   "language": "python",
   "name": "python3"
  },
  "language_info": {
   "codemirror_mode": {
    "name": "ipython",
    "version": 3
   },
   "file_extension": ".py",
   "mimetype": "text/x-python",
   "name": "python",
   "nbconvert_exporter": "python",
   "pygments_lexer": "ipython3",
   "version": "3.10.6"
  }
 },
 "nbformat": 4,
 "nbformat_minor": 2
}
