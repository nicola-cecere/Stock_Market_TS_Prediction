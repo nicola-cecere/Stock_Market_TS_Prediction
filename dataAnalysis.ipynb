{
 "cells": [
  {
   "cell_type": "markdown",
   "metadata": {},
   "source": [
    "# Generate Unique CSV"
   ]
  },
  {
   "cell_type": "code",
   "execution_count": 5,
   "metadata": {},
   "outputs": [],
   "source": [
    "import pandas as pd\n",
    "import os\n",
    "\n",
    "file_path = 'data/sp500/SP500.csv'\n",
    "folder_path = \"data/sp500/csv/\"\n",
    "output_file_path = 'data/sp500/SP500.csv'\n",
    "\n",
    "def add_ticker_and_load_csv(file_path):\n",
    "    ticker = os.path.basename(file_path).split('.')[0]\n",
    "    df = pd.read_csv(file_path)\n",
    "    df['Date'] = pd.to_datetime(df['Date'], format='%d-%m-%Y')\n",
    "    df.insert(0,\"Ticker\",ticker)\n",
    "    return df\n",
    "\n",
    "\n",
    "csv_files = [os.path.join(folder_path, file) for file in os.listdir(folder_path) if file.endswith('.csv')]\n",
    "combined_df = pd.concat((add_ticker_and_load_csv(file) for file in csv_files), ignore_index=True)\n",
    "sorted_df = combined_df.sort_values(['Ticker', 'Date'])\n",
    "\n",
    "sorted_df.to_csv(output_file_path, index=False)"
   ]
  },
  {
   "cell_type": "markdown",
   "metadata": {},
   "source": [
    "# Read Data"
   ]
  },
  {
   "cell_type": "code",
   "execution_count": 10,
   "metadata": {},
   "outputs": [
    {
     "name": "stdout",
     "output_type": "stream",
     "text": [
      "<class 'pandas.core.frame.DataFrame'>\n",
      "RangeIndex: 3266000 entries, 0 to 3265999\n",
      "Data columns (total 8 columns):\n",
      " #   Column          Dtype  \n",
      "---  ------          -----  \n",
      " 0   Ticker          object \n",
      " 1   Date            object \n",
      " 2   Low             float64\n",
      " 3   Open            float64\n",
      " 4   Volume          float64\n",
      " 5   High            float64\n",
      " 6   Close           float64\n",
      " 7   Adjusted Close  float64\n",
      "dtypes: float64(6), object(2)\n",
      "memory usage: 199.3+ MB\n"
     ]
    }
   ],
   "source": [
    "df = pd.read_csv(output_file_path)\n",
    "df.info()\n"
   ]
  },
  {
   "cell_type": "code",
   "execution_count": 11,
   "metadata": {},
   "outputs": [
    {
     "data": {
      "text/html": [
       "<div>\n",
       "<style scoped>\n",
       "    .dataframe tbody tr th:only-of-type {\n",
       "        vertical-align: middle;\n",
       "    }\n",
       "\n",
       "    .dataframe tbody tr th {\n",
       "        vertical-align: top;\n",
       "    }\n",
       "\n",
       "    .dataframe thead th {\n",
       "        text-align: right;\n",
       "    }\n",
       "</style>\n",
       "<table border=\"1\" class=\"dataframe\">\n",
       "  <thead>\n",
       "    <tr style=\"text-align: right;\">\n",
       "      <th></th>\n",
       "      <th>Low</th>\n",
       "      <th>Open</th>\n",
       "      <th>Volume</th>\n",
       "      <th>High</th>\n",
       "      <th>Close</th>\n",
       "      <th>Adjusted Close</th>\n",
       "    </tr>\n",
       "  </thead>\n",
       "  <tbody>\n",
       "    <tr>\n",
       "      <th>count</th>\n",
       "      <td>3.258423e+06</td>\n",
       "      <td>3.258423e+06</td>\n",
       "      <td>3.258423e+06</td>\n",
       "      <td>3.258423e+06</td>\n",
       "      <td>3.258423e+06</td>\n",
       "      <td>3.258423e+06</td>\n",
       "    </tr>\n",
       "    <tr>\n",
       "      <th>mean</th>\n",
       "      <td>3.821284e+02</td>\n",
       "      <td>3.849360e+02</td>\n",
       "      <td>5.064393e+06</td>\n",
       "      <td>3.881214e+02</td>\n",
       "      <td>3.851922e+02</td>\n",
       "      <td>3.783433e+02</td>\n",
       "    </tr>\n",
       "    <tr>\n",
       "      <th>std</th>\n",
       "      <td>8.803883e+03</td>\n",
       "      <td>8.874080e+03</td>\n",
       "      <td>3.072309e+07</td>\n",
       "      <td>8.933282e+03</td>\n",
       "      <td>8.868704e+03</td>\n",
       "      <td>8.868953e+03</td>\n",
       "    </tr>\n",
       "    <tr>\n",
       "      <th>min</th>\n",
       "      <td>1.000000e-05</td>\n",
       "      <td>0.000000e+00</td>\n",
       "      <td>0.000000e+00</td>\n",
       "      <td>1.000000e-05</td>\n",
       "      <td>1.000000e-05</td>\n",
       "      <td>-2.799133e+02</td>\n",
       "    </tr>\n",
       "    <tr>\n",
       "      <th>25%</th>\n",
       "      <td>7.900000e+00</td>\n",
       "      <td>7.680000e+00</td>\n",
       "      <td>3.658000e+05</td>\n",
       "      <td>8.125000e+00</td>\n",
       "      <td>8.000000e+00</td>\n",
       "      <td>4.141712e+00</td>\n",
       "    </tr>\n",
       "    <tr>\n",
       "      <th>50%</th>\n",
       "      <td>2.345833e+01</td>\n",
       "      <td>2.369754e+01</td>\n",
       "      <td>1.232220e+06</td>\n",
       "      <td>2.405688e+01</td>\n",
       "      <td>2.377000e+01</td>\n",
       "      <td>1.595139e+01</td>\n",
       "    </tr>\n",
       "    <tr>\n",
       "      <th>75%</th>\n",
       "      <td>5.196863e+01</td>\n",
       "      <td>5.243404e+01</td>\n",
       "      <td>3.357400e+06</td>\n",
       "      <td>5.317000e+01</td>\n",
       "      <td>5.258000e+01</td>\n",
       "      <td>4.232024e+01</td>\n",
       "    </tr>\n",
       "    <tr>\n",
       "      <th>max</th>\n",
       "      <td>5.333450e+05</td>\n",
       "      <td>5.443890e+05</td>\n",
       "      <td>7.421641e+09</td>\n",
       "      <td>5.443890e+05</td>\n",
       "      <td>5.391800e+05</td>\n",
       "      <td>5.391800e+05</td>\n",
       "    </tr>\n",
       "  </tbody>\n",
       "</table>\n",
       "</div>"
      ],
      "text/plain": [
       "                Low          Open        Volume          High         Close  \\\n",
       "count  3.258423e+06  3.258423e+06  3.258423e+06  3.258423e+06  3.258423e+06   \n",
       "mean   3.821284e+02  3.849360e+02  5.064393e+06  3.881214e+02  3.851922e+02   \n",
       "std    8.803883e+03  8.874080e+03  3.072309e+07  8.933282e+03  8.868704e+03   \n",
       "min    1.000000e-05  0.000000e+00  0.000000e+00  1.000000e-05  1.000000e-05   \n",
       "25%    7.900000e+00  7.680000e+00  3.658000e+05  8.125000e+00  8.000000e+00   \n",
       "50%    2.345833e+01  2.369754e+01  1.232220e+06  2.405688e+01  2.377000e+01   \n",
       "75%    5.196863e+01  5.243404e+01  3.357400e+06  5.317000e+01  5.258000e+01   \n",
       "max    5.333450e+05  5.443890e+05  7.421641e+09  5.443890e+05  5.391800e+05   \n",
       "\n",
       "       Adjusted Close  \n",
       "count    3.258423e+06  \n",
       "mean     3.783433e+02  \n",
       "std      8.868953e+03  \n",
       "min     -2.799133e+02  \n",
       "25%      4.141712e+00  \n",
       "50%      1.595139e+01  \n",
       "75%      4.232024e+01  \n",
       "max      5.391800e+05  "
      ]
     },
     "execution_count": 11,
     "metadata": {},
     "output_type": "execute_result"
    }
   ],
   "source": [
    "df.describe()"
   ]
  },
  {
   "cell_type": "code",
   "execution_count": 19,
   "metadata": {},
   "outputs": [
    {
     "name": "stdout",
     "output_type": "stream",
     "text": [
      "Number of null values per column:\n"
     ]
    },
    {
     "data": {
      "text/html": [
       "<div>\n",
       "<style scoped>\n",
       "    .dataframe tbody tr th:only-of-type {\n",
       "        vertical-align: middle;\n",
       "    }\n",
       "\n",
       "    .dataframe tbody tr th {\n",
       "        vertical-align: top;\n",
       "    }\n",
       "\n",
       "    .dataframe thead th {\n",
       "        text-align: right;\n",
       "    }\n",
       "</style>\n",
       "<table border=\"1\" class=\"dataframe\">\n",
       "  <thead>\n",
       "    <tr style=\"text-align: right;\">\n",
       "      <th></th>\n",
       "      <th>count</th>\n",
       "      <th>nulls</th>\n",
       "    </tr>\n",
       "  </thead>\n",
       "  <tbody>\n",
       "    <tr>\n",
       "      <th>Ticker</th>\n",
       "      <td>3266000</td>\n",
       "      <td>0</td>\n",
       "    </tr>\n",
       "    <tr>\n",
       "      <th>Date</th>\n",
       "      <td>3266000</td>\n",
       "      <td>0</td>\n",
       "    </tr>\n",
       "    <tr>\n",
       "      <th>Low</th>\n",
       "      <td>3258423</td>\n",
       "      <td>7577</td>\n",
       "    </tr>\n",
       "    <tr>\n",
       "      <th>Open</th>\n",
       "      <td>3258423</td>\n",
       "      <td>7577</td>\n",
       "    </tr>\n",
       "    <tr>\n",
       "      <th>Volume</th>\n",
       "      <td>3258423</td>\n",
       "      <td>7577</td>\n",
       "    </tr>\n",
       "    <tr>\n",
       "      <th>High</th>\n",
       "      <td>3258423</td>\n",
       "      <td>7577</td>\n",
       "    </tr>\n",
       "    <tr>\n",
       "      <th>Close</th>\n",
       "      <td>3258423</td>\n",
       "      <td>7577</td>\n",
       "    </tr>\n",
       "    <tr>\n",
       "      <th>Adjusted Close</th>\n",
       "      <td>3258423</td>\n",
       "      <td>7577</td>\n",
       "    </tr>\n",
       "  </tbody>\n",
       "</table>\n",
       "</div>"
      ],
      "text/plain": [
       "                  count  nulls\n",
       "Ticker          3266000      0\n",
       "Date            3266000      0\n",
       "Low             3258423   7577\n",
       "Open            3258423   7577\n",
       "Volume          3258423   7577\n",
       "High            3258423   7577\n",
       "Close           3258423   7577\n",
       "Adjusted Close  3258423   7577"
      ]
     },
     "execution_count": 19,
     "metadata": {},
     "output_type": "execute_result"
    }
   ],
   "source": [
    "print(\"Number of null values per column:\")\n",
    "counts = df.count().to_frame()\n",
    "counts.columns = ['count']\n",
    "counts['nulls'] = df.shape[0] - counts['count']\n",
    "counts"
   ]
  },
  {
   "cell_type": "code",
   "execution_count": 26,
   "metadata": {},
   "outputs": [
    {
     "data": {
      "text/plain": [
       "0"
      ]
     },
     "execution_count": 26,
     "metadata": {},
     "output_type": "execute_result"
    }
   ],
   "source": [
    "#check it there are rows with the same ticker and date\n",
    "df.duplicated(['Ticker', 'Date']).sum()"
   ]
  },
  {
   "cell_type": "code",
   "execution_count": 29,
   "metadata": {},
   "outputs": [
    {
     "name": "stdout",
     "output_type": "stream",
     "text": [
      "        Ticker  Date  Low  Open  Volume  High  Close  Adjusted Close\n",
      "Ticker                                                              \n",
      "A            0     0    0     0       0     0      0               0\n",
      "AAL          0     0    0     0       0     0      0               0\n",
      "AAP          0     0    0     0       0     0      0               0\n",
      "AAPL         0     0    0     0       0     0      0               0\n",
      "ABBV         0     0    0     0       0     0      0               0\n",
      "...        ...   ...  ...   ...     ...   ...    ...             ...\n",
      "XYL          0     0    0     0       0     0      0               0\n",
      "YUM          0     0    0     0       0     0      0               0\n",
      "ZBH          0     0    0     0       0     0      0               0\n",
      "ZION         0     0    0     0       0     0      0               0\n",
      "ZTS          0     0    0     0       0     0      0               0\n",
      "\n",
      "[409 rows x 8 columns]\n"
     ]
    }
   ],
   "source": [
    "missing_values_by_ticker = df.groupby('Ticker').apply(lambda x: x.isnull().sum())\n",
    "print(missing_values_by_ticker)"
   ]
  },
  {
   "cell_type": "code",
   "execution_count": null,
   "metadata": {},
   "outputs": [],
   "source": []
  }
 ],
 "metadata": {
  "kernelspec": {
   "display_name": "Python 3",
   "language": "python",
   "name": "python3"
  },
  "language_info": {
   "codemirror_mode": {
    "name": "ipython",
    "version": 3
   },
   "file_extension": ".py",
   "mimetype": "text/x-python",
   "name": "python",
   "nbconvert_exporter": "python",
   "pygments_lexer": "ipython3",
   "version": "3.10.6"
  }
 },
 "nbformat": 4,
 "nbformat_minor": 2
}
