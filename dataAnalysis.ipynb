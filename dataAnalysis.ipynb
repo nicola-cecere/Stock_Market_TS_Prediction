{
 "cells": [
  {
   "cell_type": "code",
   "execution_count": 8,
   "metadata": {},
   "outputs": [],
   "source": [
    "import pandas as pd\n",
    "import os\n",
    "\n",
    "# Create an empty list to store individual DataFrames\n",
    "all_dataframes = []\n",
    "\n",
    "# Assuming the CSV files are in a folder named 'data_folder'\n",
    "folder_path = \"data/sp500/csv/\"\n",
    "\n",
    "# Iterate over all files in the directory\n",
    "for filename in os.listdir(folder_path):\n",
    "    if filename.endswith(\".csv\"):\n",
    "        file_path = os.path.join(folder_path, filename)\n",
    "        \n",
    "        # Read the CSV file into a DataFrame\n",
    "        df = pd.read_csv(file_path)\n",
    "        \n",
    "        # Add a new column with the filename\n",
    "        df['ticker'] = filename\n",
    "        \n",
    "        # Append the DataFrame to the list\n",
    "        all_dataframes.append(df)\n",
    "\n",
    "# Concatenate all the DataFrames into one\n",
    "merged_df = pd.concat(all_dataframes, ignore_index=True)\n",
    "\n",
    "# Save the merged DataFrame to a new CSV file\n",
    "merged_df.to_csv(\"data/sp500/SP500.csv\", index=False)\n"
   ]
  },
  {
   "cell_type": "code",
   "execution_count": 9,
   "metadata": {},
   "outputs": [],
   "source": [
    "# Move the filename column to the first position\n",
    "filename_col = merged_df.pop('filename')\n",
    "merged_df.insert(0, 'filename', filename_col)\n",
    "\n",
    "# Sort by filename and date\n",
    "merged_df = merged_df.sort_values(['filename', 'Date'])\n"
   ]
  },
  {
   "cell_type": "code",
   "execution_count": 10,
   "metadata": {},
   "outputs": [],
   "source": [
    "import pandas as pd\n",
    "import os\n",
    "\n",
    "file_path = 'data/sp500/SP500.csv'\n",
    "# Function to add a ticker column based on the filename and load the data\n",
    "def add_ticker_and_load_csv(file_path):\n",
    "    # Extract the ticker from the filename (assuming the filename is the ticker followed by '.csv')\n",
    "    ticker = os.path.basename(file_path).split('.')[0]\n",
    "    # Read the CSV file into a DataFrame\n",
    "    df = pd.read_csv(file_path)\n",
    "    # Add a 'Ticker' column\n",
    "    df.insert(0,\"Ticker\") = ticker\n",
    "    return df\n",
    "\n",
    "# List all CSV files in the directory\n",
    "csv_files = [os.path.join(folder_path, file) for file in os.listdir(folder_path) if file.endswith('.csv')]\n",
    "\n",
    "# Apply the function to each file, concatenate into a single DataFrame, and reset the index\n",
    "combined_df = pd.concat((add_ticker_and_load_csv(file) for file in csv_files), ignore_index=True)\n",
    "\n",
    "# Path for the output combined CSV file\n",
    "output_file_path = 'data/sp500/SP500.csv'\n",
    "\n",
    "# Save the combined DataFrame to a new CSV file\n",
    "combined_df.to_csv(output_file_path, index=False)"
   ]
  },
  {
   "cell_type": "code",
   "execution_count": null,
   "metadata": {},
   "outputs": [],
   "source": [
    "sorted_df = combined_df.sort_values(['Ticker', 'Date'])"
   ]
  }
 ],
 "metadata": {
  "kernelspec": {
   "display_name": "Python 3",
   "language": "python",
   "name": "python3"
  },
  "language_info": {
   "codemirror_mode": {
    "name": "ipython",
    "version": 3
   },
   "file_extension": ".py",
   "mimetype": "text/x-python",
   "name": "python",
   "nbconvert_exporter": "python",
   "pygments_lexer": "ipython3",
   "version": "3.10.6"
  }
 },
 "nbformat": 4,
 "nbformat_minor": 2
}
