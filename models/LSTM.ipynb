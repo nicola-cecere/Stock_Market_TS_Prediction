{
 "cells": [
  {
   "cell_type": "code",
   "execution_count": 3,
   "metadata": {},
   "outputs": [
    {
     "name": "stdout",
     "output_type": "stream",
     "text": [
      "/Users/nicolacecere/GitHub/UPM-Master/Stock_Market_TS_Prediction\n"
     ]
    }
   ],
   "source": [
    "cd GitHub/UPM-Master/Stock_Market_TS_Prediction\n"
   ]
  },
  {
   "cell_type": "code",
   "execution_count": 4,
   "metadata": {},
   "outputs": [
    {
     "name": "stderr",
     "output_type": "stream",
     "text": [
      "2023-12-02 21:21:06.501220: I tensorflow/core/platform/cpu_feature_guard.cc:182] This TensorFlow binary is optimized to use available CPU instructions in performance-critical operations.\n",
      "To enable the following instructions: AVX2 FMA, in other operations, rebuild TensorFlow with the appropriate compiler flags.\n"
     ]
    }
   ],
   "source": [
    "import matplotlib.pyplot as plt\n",
    "import numpy as np\n",
    "import pandas as pd\n",
    "from dotenv import load_dotenv\n",
    "from keras.layers import LSTM, Dense\n",
    "from keras.models import Sequential\n",
    "from sklearn.linear_model import LinearRegression\n",
    "from sklearn.metrics import mean_absolute_error, mean_squared_error\n",
    "from sklearn.model_selection import train_test_split\n",
    "\n",
    "# from scripts.utils import add_seasonality\n",
    "from sklearn.preprocessing import StandardScaler"
   ]
  },
  {
   "cell_type": "code",
   "execution_count": 4,
   "metadata": {},
   "outputs": [],
   "source": [
    "def create_train_label_split(data, label_column='Close'):\n",
    "    \"\"\"\n",
    "    Splits a DataFrame into training data (X_train) and labels (y_label).\n",
    "    X_train contains the first 80% of the rows, and y_label contains the last 20% of the specified label column.\n",
    "\n",
    "    :param data: The input DataFrame.\n",
    "    :param label_column: The name of the column to use for labels.\n",
    "    :return: A tuple (X_train, y_label).\n",
    "    \"\"\"\n",
    "    # Calculate the split index\n",
    "    split_idx = int(len(data) * 0.8)\n",
    "\n",
    "    # Split the data into training data and labels\n",
    "    X_train = data.iloc[:split_idx, :].values\n",
    "    y_label = data.iloc[split_idx:, :][label_column].values\n",
    "\n",
    "    return X_train, y_label"
   ]
  },
  {
   "cell_type": "code",
   "execution_count": 5,
   "metadata": {},
   "outputs": [],
   "source": [
    "def create_sequences_shift_t(data, t):\n",
    "    X_train, y_train = [], []\n",
    "    i = 0\n",
    "    while i + 2 * t <= len(data):  # Ensure enough data for both X_train and y_train\n",
    "        X_train.append(data.iloc[i : i + t, :].values)\n",
    "        y_train.append(data.iloc[i + t : i + t + t][\"Close\"].values)\n",
    "        i += t\n",
    "    return np.array(X_train), np.array(y_train)"
   ]
  },
  {
   "cell_type": "code",
   "execution_count": 5,
   "metadata": {},
   "outputs": [],
   "source": [
    "def create_sequences(data, t, y_step):\n",
    "    X, y = [], []\n",
    "    for i in range(len(data)-t-y_step-1):\n",
    "        X.append(data.iloc[i:i+t, :].values)\n",
    "        y.append(data.iloc[i + t: i+t+y_step, :][\"Close\"].values)\n",
    "    return np.array(X), np.array(y)"
   ]
  },
  {
   "cell_type": "code",
   "execution_count": 6,
   "metadata": {},
   "outputs": [],
   "source": [
    "df = pd.read_csv(\"data/sp500/csv/AAPL.csv\")\n",
    "df[\"Date\"] = pd.to_datetime(df[\"Date\"], format=\"%d-%m-%Y\")\n",
    "df = df.sort_values(by=\"Date\")\n",
    "\n",
    "# Extract the year, month, and day as separate columns\n",
    "df[\"Year\"] = df[\"Date\"].dt.year\n",
    "df[\"Month\"] = df[\"Date\"].dt.month\n",
    "df[\"Day\"] = df[\"Date\"].dt.day\n",
    "df.drop(columns=[\"Date\", \"Adjusted Close\"], inplace=True)"
   ]
  },
  {
   "cell_type": "code",
   "execution_count": 7,
   "metadata": {},
   "outputs": [],
   "source": [
    "# Split the data into training and testing sets\n",
    "train_size = int(len(df) * 0.8)\n",
    "val_size = int(len(df) * 0.1)\n",
    "train = df.iloc[:train_size, :]\n",
    "val = df.iloc[train_size : train_size + val_size, :]\n",
    "test = df.iloc[train_size + val_size :, :]"
   ]
  },
  {
   "cell_type": "code",
   "execution_count": 8,
   "metadata": {},
   "outputs": [],
   "source": [
    "# Calculate the mean and standard deviation of each column in the training set\n",
    "train_mean = train.mean()\n",
    "train_std = train.std()\n",
    "\n",
    "# Standardize the train, validation, and test sets using the calculated mean and std\n",
    "train = (train - train_mean) / train_std\n",
    "val = (val - train_mean) / train_std\n",
    "test = (test - train_mean) / train_std"
   ]
  },
  {
   "cell_type": "code",
   "execution_count": 10,
   "metadata": {},
   "outputs": [],
   "source": [
    "X_train, y_train = create_sequences(train, 22, 22)\n",
    "X_val, y_val = create_sequences(val, 22, 22)\n",
    "X_test, y_test = create_sequences(test, 22, 22)"
   ]
  },
  {
   "cell_type": "code",
   "execution_count": 12,
   "metadata": {},
   "outputs": [
    {
     "data": {
      "text/plain": [
       "((8427, 22, 8),\n",
       " (8427, 22),\n",
       " (1014, 22, 8),\n",
       " (1014, 22),\n",
       " (1014, 22, 8),\n",
       " (1014, 22))"
      ]
     },
     "execution_count": 12,
     "metadata": {},
     "output_type": "execute_result"
    }
   ],
   "source": [
    "X_train.shape, y_train.shape, X_val.shape, y_val.shape, X_test.shape, y_test.shape"
   ]
  },
  {
   "cell_type": "code",
   "execution_count": 17,
   "metadata": {},
   "outputs": [
    {
     "name": "stdout",
     "output_type": "stream",
     "text": [
      "Model: \"LSTM_regressor\"\n",
      "_________________________________________________________________\n",
      " Layer (type)                Output Shape              Param #   \n",
      "=================================================================\n",
      " Input (InputLayer)          [(None, 22, 8)]           0         \n",
      "                                                                 \n",
      " lstm_2 (LSTM)               (None, 22, 512)           1067008   \n",
      "                                                                 \n",
      " lstm_3 (LSTM)               (None, 512)               2099200   \n",
      "                                                                 \n",
      " dropout_1 (Dropout)         (None, 512)               0         \n",
      "                                                                 \n",
      " dense_1 (Dense)             (None, 22)                11286     \n",
      "                                                                 \n",
      "=================================================================\n",
      "Total params: 3177494 (12.12 MB)\n",
      "Trainable params: 3177494 (12.12 MB)\n",
      "Non-trainable params: 0 (0.00 Byte)\n",
      "_________________________________________________________________\n",
      "Epoch 1/50\n",
      "264/264 [==============================] - 79s 287ms/step - loss: 0.0405 - mae: 0.1151 - val_loss: 2.6057 - val_mae: 1.2601 - lr: 0.0010\n",
      "Epoch 2/50\n",
      "264/264 [==============================] - 74s 281ms/step - loss: 0.0195 - mae: 0.0807 - val_loss: 2.9883 - val_mae: 1.4022 - lr: 0.0010\n",
      "Epoch 3/50\n",
      "264/264 [==============================] - 73s 278ms/step - loss: 0.0179 - mae: 0.0790 - val_loss: 2.7223 - val_mae: 1.3271 - lr: 0.0010\n",
      "Epoch 4/50\n",
      "264/264 [==============================] - 75s 283ms/step - loss: 0.0160 - mae: 0.0747 - val_loss: 3.1717 - val_mae: 1.4737 - lr: 0.0010\n",
      "Epoch 5/50\n",
      "264/264 [==============================] - 76s 289ms/step - loss: 0.0144 - mae: 0.0700 - val_loss: 2.7727 - val_mae: 1.3327 - lr: 0.0010\n",
      "Epoch 6/50\n",
      "264/264 [==============================] - 76s 287ms/step - loss: 0.0136 - mae: 0.0666 - val_loss: 1.7484 - val_mae: 0.9482 - lr: 0.0010\n",
      "Epoch 7/50\n",
      "185/264 [====================>.........] - ETA: 21s - loss: 0.0125 - mae: 0.0661"
     ]
    },
    {
     "ename": "KeyboardInterrupt",
     "evalue": "",
     "output_type": "error",
     "traceback": [
      "\u001b[0;31m---------------------------------------------------------------------------\u001b[0m",
      "\u001b[0;31mKeyboardInterrupt\u001b[0m                         Traceback (most recent call last)",
      "\u001b[1;32m/Users/nicolacecere/GitHub/UPM-Master/Stock_Market_TS_Prediction/models/LSTM.ipynb Cell 11\u001b[0m line \u001b[0;36m3\n\u001b[1;32m     <a href='vscode-notebook-cell:/Users/nicolacecere/GitHub/UPM-Master/Stock_Market_TS_Prediction/models/LSTM.ipynb#X12sZmlsZQ%3D%3D?line=31'>32</a>\u001b[0m model\u001b[39m.\u001b[39msummary()\n\u001b[1;32m     <a href='vscode-notebook-cell:/Users/nicolacecere/GitHub/UPM-Master/Stock_Market_TS_Prediction/models/LSTM.ipynb#X12sZmlsZQ%3D%3D?line=33'>34</a>\u001b[0m \u001b[39m# Train the model\u001b[39;00m\n\u001b[0;32m---> <a href='vscode-notebook-cell:/Users/nicolacecere/GitHub/UPM-Master/Stock_Market_TS_Prediction/models/LSTM.ipynb#X12sZmlsZQ%3D%3D?line=34'>35</a>\u001b[0m history \u001b[39m=\u001b[39m model\u001b[39m.\u001b[39;49mfit(\n\u001b[1;32m     <a href='vscode-notebook-cell:/Users/nicolacecere/GitHub/UPM-Master/Stock_Market_TS_Prediction/models/LSTM.ipynb#X12sZmlsZQ%3D%3D?line=35'>36</a>\u001b[0m     x\u001b[39m=\u001b[39;49mX_train,\n\u001b[1;32m     <a href='vscode-notebook-cell:/Users/nicolacecere/GitHub/UPM-Master/Stock_Market_TS_Prediction/models/LSTM.ipynb#X12sZmlsZQ%3D%3D?line=36'>37</a>\u001b[0m     y\u001b[39m=\u001b[39;49my_train,\n\u001b[1;32m     <a href='vscode-notebook-cell:/Users/nicolacecere/GitHub/UPM-Master/Stock_Market_TS_Prediction/models/LSTM.ipynb#X12sZmlsZQ%3D%3D?line=37'>38</a>\u001b[0m     validation_data\u001b[39m=\u001b[39;49m(X_val, y_val),\n\u001b[1;32m     <a href='vscode-notebook-cell:/Users/nicolacecere/GitHub/UPM-Master/Stock_Market_TS_Prediction/models/LSTM.ipynb#X12sZmlsZQ%3D%3D?line=38'>39</a>\u001b[0m     batch_size\u001b[39m=\u001b[39;49m\u001b[39m32\u001b[39;49m,\n\u001b[1;32m     <a href='vscode-notebook-cell:/Users/nicolacecere/GitHub/UPM-Master/Stock_Market_TS_Prediction/models/LSTM.ipynb#X12sZmlsZQ%3D%3D?line=39'>40</a>\u001b[0m     epochs\u001b[39m=\u001b[39;49m\u001b[39m50\u001b[39;49m,\n\u001b[1;32m     <a href='vscode-notebook-cell:/Users/nicolacecere/GitHub/UPM-Master/Stock_Market_TS_Prediction/models/LSTM.ipynb#X12sZmlsZQ%3D%3D?line=40'>41</a>\u001b[0m     callbacks\u001b[39m=\u001b[39;49m[\n\u001b[1;32m     <a href='vscode-notebook-cell:/Users/nicolacecere/GitHub/UPM-Master/Stock_Market_TS_Prediction/models/LSTM.ipynb#X12sZmlsZQ%3D%3D?line=41'>42</a>\u001b[0m         tf\u001b[39m.\u001b[39;49mkeras\u001b[39m.\u001b[39;49mcallbacks\u001b[39m.\u001b[39;49mEarlyStopping(monitor\u001b[39m=\u001b[39;49m\u001b[39m'\u001b[39;49m\u001b[39mval_loss\u001b[39;49m\u001b[39m'\u001b[39;49m, mode\u001b[39m=\u001b[39;49m\u001b[39m'\u001b[39;49m\u001b[39mmin\u001b[39;49m\u001b[39m'\u001b[39;49m, patience\u001b[39m=\u001b[39;49m\u001b[39m10\u001b[39;49m, restore_best_weights\u001b[39m=\u001b[39;49m\u001b[39mTrue\u001b[39;49;00m),\n\u001b[1;32m     <a href='vscode-notebook-cell:/Users/nicolacecere/GitHub/UPM-Master/Stock_Market_TS_Prediction/models/LSTM.ipynb#X12sZmlsZQ%3D%3D?line=42'>43</a>\u001b[0m         tf\u001b[39m.\u001b[39;49mkeras\u001b[39m.\u001b[39;49mcallbacks\u001b[39m.\u001b[39;49mReduceLROnPlateau(monitor\u001b[39m=\u001b[39;49m\u001b[39m'\u001b[39;49m\u001b[39mval_loss\u001b[39;49m\u001b[39m'\u001b[39;49m, mode\u001b[39m=\u001b[39;49m\u001b[39m'\u001b[39;49m\u001b[39mmin\u001b[39;49m\u001b[39m'\u001b[39;49m, patience\u001b[39m=\u001b[39;49m\u001b[39m5\u001b[39;49m, factor\u001b[39m=\u001b[39;49m\u001b[39m0.5\u001b[39;49m, min_lr\u001b[39m=\u001b[39;49m\u001b[39m1e-5\u001b[39;49m)\n\u001b[1;32m     <a href='vscode-notebook-cell:/Users/nicolacecere/GitHub/UPM-Master/Stock_Market_TS_Prediction/models/LSTM.ipynb#X12sZmlsZQ%3D%3D?line=43'>44</a>\u001b[0m     ]\n\u001b[1;32m     <a href='vscode-notebook-cell:/Users/nicolacecere/GitHub/UPM-Master/Stock_Market_TS_Prediction/models/LSTM.ipynb#X12sZmlsZQ%3D%3D?line=44'>45</a>\u001b[0m )\u001b[39m.\u001b[39mhistory\n",
      "File \u001b[0;32m~/opt/anaconda3/envs/DMTS/lib/python3.9/site-packages/keras/src/utils/traceback_utils.py:65\u001b[0m, in \u001b[0;36mfilter_traceback.<locals>.error_handler\u001b[0;34m(*args, **kwargs)\u001b[0m\n\u001b[1;32m     63\u001b[0m filtered_tb \u001b[39m=\u001b[39m \u001b[39mNone\u001b[39;00m\n\u001b[1;32m     64\u001b[0m \u001b[39mtry\u001b[39;00m:\n\u001b[0;32m---> 65\u001b[0m     \u001b[39mreturn\u001b[39;00m fn(\u001b[39m*\u001b[39;49margs, \u001b[39m*\u001b[39;49m\u001b[39m*\u001b[39;49mkwargs)\n\u001b[1;32m     66\u001b[0m \u001b[39mexcept\u001b[39;00m \u001b[39mException\u001b[39;00m \u001b[39mas\u001b[39;00m e:\n\u001b[1;32m     67\u001b[0m     filtered_tb \u001b[39m=\u001b[39m _process_traceback_frames(e\u001b[39m.\u001b[39m__traceback__)\n",
      "File \u001b[0;32m~/opt/anaconda3/envs/DMTS/lib/python3.9/site-packages/keras/src/engine/training.py:1807\u001b[0m, in \u001b[0;36mModel.fit\u001b[0;34m(self, x, y, batch_size, epochs, verbose, callbacks, validation_split, validation_data, shuffle, class_weight, sample_weight, initial_epoch, steps_per_epoch, validation_steps, validation_batch_size, validation_freq, max_queue_size, workers, use_multiprocessing)\u001b[0m\n\u001b[1;32m   1799\u001b[0m \u001b[39mwith\u001b[39;00m tf\u001b[39m.\u001b[39mprofiler\u001b[39m.\u001b[39mexperimental\u001b[39m.\u001b[39mTrace(\n\u001b[1;32m   1800\u001b[0m     \u001b[39m\"\u001b[39m\u001b[39mtrain\u001b[39m\u001b[39m\"\u001b[39m,\n\u001b[1;32m   1801\u001b[0m     epoch_num\u001b[39m=\u001b[39mepoch,\n\u001b[0;32m   (...)\u001b[0m\n\u001b[1;32m   1804\u001b[0m     _r\u001b[39m=\u001b[39m\u001b[39m1\u001b[39m,\n\u001b[1;32m   1805\u001b[0m ):\n\u001b[1;32m   1806\u001b[0m     callbacks\u001b[39m.\u001b[39mon_train_batch_begin(step)\n\u001b[0;32m-> 1807\u001b[0m     tmp_logs \u001b[39m=\u001b[39m \u001b[39mself\u001b[39;49m\u001b[39m.\u001b[39;49mtrain_function(iterator)\n\u001b[1;32m   1808\u001b[0m     \u001b[39mif\u001b[39;00m data_handler\u001b[39m.\u001b[39mshould_sync:\n\u001b[1;32m   1809\u001b[0m         context\u001b[39m.\u001b[39masync_wait()\n",
      "File \u001b[0;32m~/opt/anaconda3/envs/DMTS/lib/python3.9/site-packages/tensorflow/python/util/traceback_utils.py:150\u001b[0m, in \u001b[0;36mfilter_traceback.<locals>.error_handler\u001b[0;34m(*args, **kwargs)\u001b[0m\n\u001b[1;32m    148\u001b[0m filtered_tb \u001b[39m=\u001b[39m \u001b[39mNone\u001b[39;00m\n\u001b[1;32m    149\u001b[0m \u001b[39mtry\u001b[39;00m:\n\u001b[0;32m--> 150\u001b[0m   \u001b[39mreturn\u001b[39;00m fn(\u001b[39m*\u001b[39;49margs, \u001b[39m*\u001b[39;49m\u001b[39m*\u001b[39;49mkwargs)\n\u001b[1;32m    151\u001b[0m \u001b[39mexcept\u001b[39;00m \u001b[39mException\u001b[39;00m \u001b[39mas\u001b[39;00m e:\n\u001b[1;32m    152\u001b[0m   filtered_tb \u001b[39m=\u001b[39m _process_traceback_frames(e\u001b[39m.\u001b[39m__traceback__)\n",
      "File \u001b[0;32m~/opt/anaconda3/envs/DMTS/lib/python3.9/site-packages/tensorflow/python/eager/polymorphic_function/polymorphic_function.py:832\u001b[0m, in \u001b[0;36mFunction.__call__\u001b[0;34m(self, *args, **kwds)\u001b[0m\n\u001b[1;32m    829\u001b[0m compiler \u001b[39m=\u001b[39m \u001b[39m\"\u001b[39m\u001b[39mxla\u001b[39m\u001b[39m\"\u001b[39m \u001b[39mif\u001b[39;00m \u001b[39mself\u001b[39m\u001b[39m.\u001b[39m_jit_compile \u001b[39melse\u001b[39;00m \u001b[39m\"\u001b[39m\u001b[39mnonXla\u001b[39m\u001b[39m\"\u001b[39m\n\u001b[1;32m    831\u001b[0m \u001b[39mwith\u001b[39;00m OptionalXlaContext(\u001b[39mself\u001b[39m\u001b[39m.\u001b[39m_jit_compile):\n\u001b[0;32m--> 832\u001b[0m   result \u001b[39m=\u001b[39m \u001b[39mself\u001b[39;49m\u001b[39m.\u001b[39;49m_call(\u001b[39m*\u001b[39;49margs, \u001b[39m*\u001b[39;49m\u001b[39m*\u001b[39;49mkwds)\n\u001b[1;32m    834\u001b[0m new_tracing_count \u001b[39m=\u001b[39m \u001b[39mself\u001b[39m\u001b[39m.\u001b[39mexperimental_get_tracing_count()\n\u001b[1;32m    835\u001b[0m without_tracing \u001b[39m=\u001b[39m (tracing_count \u001b[39m==\u001b[39m new_tracing_count)\n",
      "File \u001b[0;32m~/opt/anaconda3/envs/DMTS/lib/python3.9/site-packages/tensorflow/python/eager/polymorphic_function/polymorphic_function.py:868\u001b[0m, in \u001b[0;36mFunction._call\u001b[0;34m(self, *args, **kwds)\u001b[0m\n\u001b[1;32m    865\u001b[0m   \u001b[39mself\u001b[39m\u001b[39m.\u001b[39m_lock\u001b[39m.\u001b[39mrelease()\n\u001b[1;32m    866\u001b[0m   \u001b[39m# In this case we have created variables on the first call, so we run the\u001b[39;00m\n\u001b[1;32m    867\u001b[0m   \u001b[39m# defunned version which is guaranteed to never create variables.\u001b[39;00m\n\u001b[0;32m--> 868\u001b[0m   \u001b[39mreturn\u001b[39;00m tracing_compilation\u001b[39m.\u001b[39;49mcall_function(\n\u001b[1;32m    869\u001b[0m       args, kwds, \u001b[39mself\u001b[39;49m\u001b[39m.\u001b[39;49m_no_variable_creation_config\n\u001b[1;32m    870\u001b[0m   )\n\u001b[1;32m    871\u001b[0m \u001b[39melif\u001b[39;00m \u001b[39mself\u001b[39m\u001b[39m.\u001b[39m_variable_creation_config \u001b[39mis\u001b[39;00m \u001b[39mnot\u001b[39;00m \u001b[39mNone\u001b[39;00m:\n\u001b[1;32m    872\u001b[0m   \u001b[39m# Release the lock early so that multiple threads can perform the call\u001b[39;00m\n\u001b[1;32m    873\u001b[0m   \u001b[39m# in parallel.\u001b[39;00m\n\u001b[1;32m    874\u001b[0m   \u001b[39mself\u001b[39m\u001b[39m.\u001b[39m_lock\u001b[39m.\u001b[39mrelease()\n",
      "File \u001b[0;32m~/opt/anaconda3/envs/DMTS/lib/python3.9/site-packages/tensorflow/python/eager/polymorphic_function/tracing_compilation.py:139\u001b[0m, in \u001b[0;36mcall_function\u001b[0;34m(args, kwargs, tracing_options)\u001b[0m\n\u001b[1;32m    137\u001b[0m bound_args \u001b[39m=\u001b[39m function\u001b[39m.\u001b[39mfunction_type\u001b[39m.\u001b[39mbind(\u001b[39m*\u001b[39margs, \u001b[39m*\u001b[39m\u001b[39m*\u001b[39mkwargs)\n\u001b[1;32m    138\u001b[0m flat_inputs \u001b[39m=\u001b[39m function\u001b[39m.\u001b[39mfunction_type\u001b[39m.\u001b[39munpack_inputs(bound_args)\n\u001b[0;32m--> 139\u001b[0m \u001b[39mreturn\u001b[39;00m function\u001b[39m.\u001b[39;49m_call_flat(  \u001b[39m# pylint: disable=protected-access\u001b[39;49;00m\n\u001b[1;32m    140\u001b[0m     flat_inputs, captured_inputs\u001b[39m=\u001b[39;49mfunction\u001b[39m.\u001b[39;49mcaptured_inputs\n\u001b[1;32m    141\u001b[0m )\n",
      "File \u001b[0;32m~/opt/anaconda3/envs/DMTS/lib/python3.9/site-packages/tensorflow/python/eager/polymorphic_function/concrete_function.py:1323\u001b[0m, in \u001b[0;36mConcreteFunction._call_flat\u001b[0;34m(self, tensor_inputs, captured_inputs)\u001b[0m\n\u001b[1;32m   1319\u001b[0m possible_gradient_type \u001b[39m=\u001b[39m gradients_util\u001b[39m.\u001b[39mPossibleTapeGradientTypes(args)\n\u001b[1;32m   1320\u001b[0m \u001b[39mif\u001b[39;00m (possible_gradient_type \u001b[39m==\u001b[39m gradients_util\u001b[39m.\u001b[39mPOSSIBLE_GRADIENT_TYPES_NONE\n\u001b[1;32m   1321\u001b[0m     \u001b[39mand\u001b[39;00m executing_eagerly):\n\u001b[1;32m   1322\u001b[0m   \u001b[39m# No tape is watching; skip to running the function.\u001b[39;00m\n\u001b[0;32m-> 1323\u001b[0m   \u001b[39mreturn\u001b[39;00m \u001b[39mself\u001b[39;49m\u001b[39m.\u001b[39;49m_inference_function\u001b[39m.\u001b[39;49mcall_preflattened(args)\n\u001b[1;32m   1324\u001b[0m forward_backward \u001b[39m=\u001b[39m \u001b[39mself\u001b[39m\u001b[39m.\u001b[39m_select_forward_and_backward_functions(\n\u001b[1;32m   1325\u001b[0m     args,\n\u001b[1;32m   1326\u001b[0m     possible_gradient_type,\n\u001b[1;32m   1327\u001b[0m     executing_eagerly)\n\u001b[1;32m   1328\u001b[0m forward_function, args_with_tangents \u001b[39m=\u001b[39m forward_backward\u001b[39m.\u001b[39mforward()\n",
      "File \u001b[0;32m~/opt/anaconda3/envs/DMTS/lib/python3.9/site-packages/tensorflow/python/eager/polymorphic_function/atomic_function.py:216\u001b[0m, in \u001b[0;36mAtomicFunction.call_preflattened\u001b[0;34m(self, args)\u001b[0m\n\u001b[1;32m    214\u001b[0m \u001b[39mdef\u001b[39;00m \u001b[39mcall_preflattened\u001b[39m(\u001b[39mself\u001b[39m, args: Sequence[core\u001b[39m.\u001b[39mTensor]) \u001b[39m-\u001b[39m\u001b[39m>\u001b[39m Any:\n\u001b[1;32m    215\u001b[0m \u001b[39m  \u001b[39m\u001b[39m\"\"\"Calls with flattened tensor inputs and returns the structured output.\"\"\"\u001b[39;00m\n\u001b[0;32m--> 216\u001b[0m   flat_outputs \u001b[39m=\u001b[39m \u001b[39mself\u001b[39;49m\u001b[39m.\u001b[39;49mcall_flat(\u001b[39m*\u001b[39;49margs)\n\u001b[1;32m    217\u001b[0m   \u001b[39mreturn\u001b[39;00m \u001b[39mself\u001b[39m\u001b[39m.\u001b[39mfunction_type\u001b[39m.\u001b[39mpack_output(flat_outputs)\n",
      "File \u001b[0;32m~/opt/anaconda3/envs/DMTS/lib/python3.9/site-packages/tensorflow/python/eager/polymorphic_function/atomic_function.py:251\u001b[0m, in \u001b[0;36mAtomicFunction.call_flat\u001b[0;34m(self, *args)\u001b[0m\n\u001b[1;32m    249\u001b[0m \u001b[39mwith\u001b[39;00m record\u001b[39m.\u001b[39mstop_recording():\n\u001b[1;32m    250\u001b[0m   \u001b[39mif\u001b[39;00m \u001b[39mself\u001b[39m\u001b[39m.\u001b[39m_bound_context\u001b[39m.\u001b[39mexecuting_eagerly():\n\u001b[0;32m--> 251\u001b[0m     outputs \u001b[39m=\u001b[39m \u001b[39mself\u001b[39;49m\u001b[39m.\u001b[39;49m_bound_context\u001b[39m.\u001b[39;49mcall_function(\n\u001b[1;32m    252\u001b[0m         \u001b[39mself\u001b[39;49m\u001b[39m.\u001b[39;49mname,\n\u001b[1;32m    253\u001b[0m         \u001b[39mlist\u001b[39;49m(args),\n\u001b[1;32m    254\u001b[0m         \u001b[39mlen\u001b[39;49m(\u001b[39mself\u001b[39;49m\u001b[39m.\u001b[39;49mfunction_type\u001b[39m.\u001b[39;49mflat_outputs),\n\u001b[1;32m    255\u001b[0m     )\n\u001b[1;32m    256\u001b[0m   \u001b[39melse\u001b[39;00m:\n\u001b[1;32m    257\u001b[0m     outputs \u001b[39m=\u001b[39m make_call_op_in_graph(\n\u001b[1;32m    258\u001b[0m         \u001b[39mself\u001b[39m,\n\u001b[1;32m    259\u001b[0m         \u001b[39mlist\u001b[39m(args),\n\u001b[1;32m    260\u001b[0m         \u001b[39mself\u001b[39m\u001b[39m.\u001b[39m_bound_context\u001b[39m.\u001b[39mfunction_call_options\u001b[39m.\u001b[39mas_attrs(),\n\u001b[1;32m    261\u001b[0m     )\n",
      "File \u001b[0;32m~/opt/anaconda3/envs/DMTS/lib/python3.9/site-packages/tensorflow/python/eager/context.py:1486\u001b[0m, in \u001b[0;36mContext.call_function\u001b[0;34m(self, name, tensor_inputs, num_outputs)\u001b[0m\n\u001b[1;32m   1484\u001b[0m cancellation_context \u001b[39m=\u001b[39m cancellation\u001b[39m.\u001b[39mcontext()\n\u001b[1;32m   1485\u001b[0m \u001b[39mif\u001b[39;00m cancellation_context \u001b[39mis\u001b[39;00m \u001b[39mNone\u001b[39;00m:\n\u001b[0;32m-> 1486\u001b[0m   outputs \u001b[39m=\u001b[39m execute\u001b[39m.\u001b[39;49mexecute(\n\u001b[1;32m   1487\u001b[0m       name\u001b[39m.\u001b[39;49mdecode(\u001b[39m\"\u001b[39;49m\u001b[39mutf-8\u001b[39;49m\u001b[39m\"\u001b[39;49m),\n\u001b[1;32m   1488\u001b[0m       num_outputs\u001b[39m=\u001b[39;49mnum_outputs,\n\u001b[1;32m   1489\u001b[0m       inputs\u001b[39m=\u001b[39;49mtensor_inputs,\n\u001b[1;32m   1490\u001b[0m       attrs\u001b[39m=\u001b[39;49mattrs,\n\u001b[1;32m   1491\u001b[0m       ctx\u001b[39m=\u001b[39;49m\u001b[39mself\u001b[39;49m,\n\u001b[1;32m   1492\u001b[0m   )\n\u001b[1;32m   1493\u001b[0m \u001b[39melse\u001b[39;00m:\n\u001b[1;32m   1494\u001b[0m   outputs \u001b[39m=\u001b[39m execute\u001b[39m.\u001b[39mexecute_with_cancellation(\n\u001b[1;32m   1495\u001b[0m       name\u001b[39m.\u001b[39mdecode(\u001b[39m\"\u001b[39m\u001b[39mutf-8\u001b[39m\u001b[39m\"\u001b[39m),\n\u001b[1;32m   1496\u001b[0m       num_outputs\u001b[39m=\u001b[39mnum_outputs,\n\u001b[0;32m   (...)\u001b[0m\n\u001b[1;32m   1500\u001b[0m       cancellation_manager\u001b[39m=\u001b[39mcancellation_context,\n\u001b[1;32m   1501\u001b[0m   )\n",
      "File \u001b[0;32m~/opt/anaconda3/envs/DMTS/lib/python3.9/site-packages/tensorflow/python/eager/execute.py:53\u001b[0m, in \u001b[0;36mquick_execute\u001b[0;34m(op_name, num_outputs, inputs, attrs, ctx, name)\u001b[0m\n\u001b[1;32m     51\u001b[0m \u001b[39mtry\u001b[39;00m:\n\u001b[1;32m     52\u001b[0m   ctx\u001b[39m.\u001b[39mensure_initialized()\n\u001b[0;32m---> 53\u001b[0m   tensors \u001b[39m=\u001b[39m pywrap_tfe\u001b[39m.\u001b[39;49mTFE_Py_Execute(ctx\u001b[39m.\u001b[39;49m_handle, device_name, op_name,\n\u001b[1;32m     54\u001b[0m                                       inputs, attrs, num_outputs)\n\u001b[1;32m     55\u001b[0m \u001b[39mexcept\u001b[39;00m core\u001b[39m.\u001b[39m_NotOkStatusException \u001b[39mas\u001b[39;00m e:\n\u001b[1;32m     56\u001b[0m   \u001b[39mif\u001b[39;00m name \u001b[39mis\u001b[39;00m \u001b[39mnot\u001b[39;00m \u001b[39mNone\u001b[39;00m:\n",
      "\u001b[0;31mKeyboardInterrupt\u001b[0m: "
     ]
    }
   ],
   "source": [
    "import tensorflow as tf\n",
    "from tensorflow.keras import layers as tfkl\n",
    "from tensorflow.keras.models import Model as tfkModel\n",
    "\n",
    "def build_LSTM_regressor(input_shape, output_units):\n",
    "    # Build the neural network layer by layer\n",
    "    input_layer = tfkl.Input(shape=input_shape, name='Input')\n",
    "\n",
    "    # Feature extractor\n",
    "    lstm = tfkl.LSTM(512, return_sequences=True)(input_layer)\n",
    "    lstm = tfkl.LSTM(512)(lstm)\n",
    "    dropout = tfkl.Dropout(.5)(lstm)\n",
    "\n",
    "    # Output layer for regression\n",
    "    output_layer = tfkl.Dense(output_units)(dropout)  # No activation for regression\n",
    "\n",
    "    # Connect input and output through the Model class\n",
    "    model = tfkModel(inputs=input_layer, outputs=output_layer, name='LSTM_regressor')\n",
    "\n",
    "    # Compile the model\n",
    "    model.compile(loss='mean_squared_error', optimizer='adam', metrics=['mae'])\n",
    "\n",
    "    # Return the model\n",
    "    return model\n",
    "\n",
    "# Assuming input_shape is (t, number of features)\n",
    "input_shape = (X_train.shape[1], X_train.shape[2])\n",
    "output_units = y_train.shape[1]  # Number of days to predict\n",
    "\n",
    "# Build and compile the model\n",
    "model = build_LSTM_regressor(input_shape, output_units)\n",
    "model.summary()\n",
    "\n",
    "# Train the model\n",
    "history = model.fit(\n",
    "    x=X_train,\n",
    "    y=y_train,\n",
    "    validation_data=(X_val, y_val),\n",
    "    batch_size=32,\n",
    "    epochs=50,\n",
    "    callbacks=[\n",
    "        tf.keras.callbacks.EarlyStopping(monitor='val_loss', mode='min', patience=10, restore_best_weights=True),\n",
    "        tf.keras.callbacks.ReduceLROnPlateau(monitor='val_loss', mode='min', patience=5, factor=0.5, min_lr=1e-5)\n",
    "    ]\n",
    ").history"
   ]
  },
  {
   "cell_type": "code",
   "execution_count": 47,
   "metadata": {},
   "outputs": [
    {
     "ename": "InvalidArgumentError",
     "evalue": "Graph execution error:\n\nDetected at node sub defined at (most recent call last):\n  File \"/Users/nicolacecere/opt/anaconda3/envs/DMTS/lib/python3.9/runpy.py\", line 197, in _run_module_as_main\n\n  File \"/Users/nicolacecere/opt/anaconda3/envs/DMTS/lib/python3.9/runpy.py\", line 87, in _run_code\n\n  File \"/Users/nicolacecere/opt/anaconda3/envs/DMTS/lib/python3.9/site-packages/ipykernel_launcher.py\", line 17, in <module>\n\n  File \"/Users/nicolacecere/opt/anaconda3/envs/DMTS/lib/python3.9/site-packages/traitlets/config/application.py\", line 1077, in launch_instance\n\n  File \"/Users/nicolacecere/opt/anaconda3/envs/DMTS/lib/python3.9/site-packages/ipykernel/kernelapp.py\", line 737, in start\n\n  File \"/Users/nicolacecere/opt/anaconda3/envs/DMTS/lib/python3.9/site-packages/tornado/platform/asyncio.py\", line 195, in start\n\n  File \"/Users/nicolacecere/opt/anaconda3/envs/DMTS/lib/python3.9/asyncio/base_events.py\", line 601, in run_forever\n\n  File \"/Users/nicolacecere/opt/anaconda3/envs/DMTS/lib/python3.9/asyncio/base_events.py\", line 1905, in _run_once\n\n  File \"/Users/nicolacecere/opt/anaconda3/envs/DMTS/lib/python3.9/asyncio/events.py\", line 80, in _run\n\n  File \"/Users/nicolacecere/opt/anaconda3/envs/DMTS/lib/python3.9/site-packages/ipykernel/kernelbase.py\", line 524, in dispatch_queue\n\n  File \"/Users/nicolacecere/opt/anaconda3/envs/DMTS/lib/python3.9/site-packages/ipykernel/kernelbase.py\", line 513, in process_one\n\n  File \"/Users/nicolacecere/opt/anaconda3/envs/DMTS/lib/python3.9/site-packages/ipykernel/kernelbase.py\", line 418, in dispatch_shell\n\n  File \"/Users/nicolacecere/opt/anaconda3/envs/DMTS/lib/python3.9/site-packages/ipykernel/kernelbase.py\", line 758, in execute_request\n\n  File \"/Users/nicolacecere/opt/anaconda3/envs/DMTS/lib/python3.9/site-packages/ipykernel/ipkernel.py\", line 426, in do_execute\n\n  File \"/Users/nicolacecere/opt/anaconda3/envs/DMTS/lib/python3.9/site-packages/ipykernel/zmqshell.py\", line 549, in run_cell\n\n  File \"/Users/nicolacecere/opt/anaconda3/envs/DMTS/lib/python3.9/site-packages/IPython/core/interactiveshell.py\", line 3048, in run_cell\n\n  File \"/Users/nicolacecere/opt/anaconda3/envs/DMTS/lib/python3.9/site-packages/IPython/core/interactiveshell.py\", line 3103, in _run_cell\n\n  File \"/Users/nicolacecere/opt/anaconda3/envs/DMTS/lib/python3.9/site-packages/IPython/core/async_helpers.py\", line 129, in _pseudo_sync_runner\n\n  File \"/Users/nicolacecere/opt/anaconda3/envs/DMTS/lib/python3.9/site-packages/IPython/core/interactiveshell.py\", line 3308, in run_cell_async\n\n  File \"/Users/nicolacecere/opt/anaconda3/envs/DMTS/lib/python3.9/site-packages/IPython/core/interactiveshell.py\", line 3490, in run_ast_nodes\n\n  File \"/Users/nicolacecere/opt/anaconda3/envs/DMTS/lib/python3.9/site-packages/IPython/core/interactiveshell.py\", line 3550, in run_code\n\n  File \"/var/folders/52/p_k1rywx3y19_c8bd_1dh4ym0000gn/T/ipykernel_9020/2901593921.py\", line 1, in <module>\n\n  File \"/Users/nicolacecere/opt/anaconda3/envs/DMTS/lib/python3.9/site-packages/keras/src/utils/traceback_utils.py\", line 65, in error_handler\n\n  File \"/Users/nicolacecere/opt/anaconda3/envs/DMTS/lib/python3.9/site-packages/keras/src/engine/training.py\", line 2296, in evaluate\n\n  File \"/Users/nicolacecere/opt/anaconda3/envs/DMTS/lib/python3.9/site-packages/keras/src/engine/training.py\", line 4108, in run_step\n\n  File \"/Users/nicolacecere/opt/anaconda3/envs/DMTS/lib/python3.9/site-packages/keras/src/engine/training.py\", line 2066, in test_function\n\n  File \"/Users/nicolacecere/opt/anaconda3/envs/DMTS/lib/python3.9/site-packages/keras/src/engine/training.py\", line 2049, in step_function\n\n  File \"/Users/nicolacecere/opt/anaconda3/envs/DMTS/lib/python3.9/site-packages/keras/src/engine/training.py\", line 2037, in run_step\n\n  File \"/Users/nicolacecere/opt/anaconda3/envs/DMTS/lib/python3.9/site-packages/keras/src/engine/training.py\", line 1920, in test_step\n\n  File \"/Users/nicolacecere/opt/anaconda3/envs/DMTS/lib/python3.9/site-packages/keras/src/engine/training.py\", line 1249, in compute_metrics\n\n  File \"/Users/nicolacecere/opt/anaconda3/envs/DMTS/lib/python3.9/site-packages/keras/src/engine/compile_utils.py\", line 620, in update_state\n\n  File \"/Users/nicolacecere/opt/anaconda3/envs/DMTS/lib/python3.9/site-packages/keras/src/utils/metrics_utils.py\", line 77, in decorated\n\n  File \"/Users/nicolacecere/opt/anaconda3/envs/DMTS/lib/python3.9/site-packages/keras/src/metrics/base_metric.py\", line 140, in update_state_fn\n\n  File \"/Users/nicolacecere/opt/anaconda3/envs/DMTS/lib/python3.9/site-packages/keras/src/metrics/base_metric.py\", line 723, in update_state\n\n  File \"/Users/nicolacecere/opt/anaconda3/envs/DMTS/lib/python3.9/site-packages/keras/src/losses.py\", line 1848, in mean_absolute_error\n\nIncompatible shapes: [3,1260] vs. [3,504]\n\t [[{{node sub}}]] [Op:__inference_test_function_263372]",
     "output_type": "error",
     "traceback": [
      "\u001b[0;31m---------------------------------------------------------------------------\u001b[0m",
      "\u001b[0;31mInvalidArgumentError\u001b[0m                      Traceback (most recent call last)",
      "\u001b[1;32m/Users/nicolacecere/GitHub/UPM-Master/Stock_Market_TS_Prediction/models/LSTM.ipynb Cell 8\u001b[0m line \u001b[0;36m1\n\u001b[0;32m----> <a href='vscode-notebook-cell:/Users/nicolacecere/GitHub/UPM-Master/Stock_Market_TS_Prediction/models/LSTM.ipynb#W1sZmlsZQ%3D%3D?line=0'>1</a>\u001b[0m test_loss \u001b[39m=\u001b[39m model\u001b[39m.\u001b[39;49mevaluate(X_test, y_test, verbose\u001b[39m=\u001b[39;49m\u001b[39m1\u001b[39;49m)\n\u001b[1;32m      <a href='vscode-notebook-cell:/Users/nicolacecere/GitHub/UPM-Master/Stock_Market_TS_Prediction/models/LSTM.ipynb#W1sZmlsZQ%3D%3D?line=1'>2</a>\u001b[0m \u001b[39mprint\u001b[39m(\u001b[39mf\u001b[39m\u001b[39m\"\u001b[39m\u001b[39mTest Loss (Mean Squared Error): \u001b[39m\u001b[39m{\u001b[39;00mtest_loss\u001b[39m}\u001b[39;00m\u001b[39m\"\u001b[39m)\n",
      "File \u001b[0;32m~/opt/anaconda3/envs/DMTS/lib/python3.9/site-packages/keras/src/utils/traceback_utils.py:70\u001b[0m, in \u001b[0;36mfilter_traceback.<locals>.error_handler\u001b[0;34m(*args, **kwargs)\u001b[0m\n\u001b[1;32m     67\u001b[0m     filtered_tb \u001b[39m=\u001b[39m _process_traceback_frames(e\u001b[39m.\u001b[39m__traceback__)\n\u001b[1;32m     68\u001b[0m     \u001b[39m# To get the full stack trace, call:\u001b[39;00m\n\u001b[1;32m     69\u001b[0m     \u001b[39m# `tf.debugging.disable_traceback_filtering()`\u001b[39;00m\n\u001b[0;32m---> 70\u001b[0m     \u001b[39mraise\u001b[39;00m e\u001b[39m.\u001b[39mwith_traceback(filtered_tb) \u001b[39mfrom\u001b[39;00m \u001b[39mNone\u001b[39;00m\n\u001b[1;32m     71\u001b[0m \u001b[39mfinally\u001b[39;00m:\n\u001b[1;32m     72\u001b[0m     \u001b[39mdel\u001b[39;00m filtered_tb\n",
      "File \u001b[0;32m~/opt/anaconda3/envs/DMTS/lib/python3.9/site-packages/tensorflow/python/eager/execute.py:53\u001b[0m, in \u001b[0;36mquick_execute\u001b[0;34m(op_name, num_outputs, inputs, attrs, ctx, name)\u001b[0m\n\u001b[1;32m     51\u001b[0m \u001b[39mtry\u001b[39;00m:\n\u001b[1;32m     52\u001b[0m   ctx\u001b[39m.\u001b[39mensure_initialized()\n\u001b[0;32m---> 53\u001b[0m   tensors \u001b[39m=\u001b[39m pywrap_tfe\u001b[39m.\u001b[39mTFE_Py_Execute(ctx\u001b[39m.\u001b[39m_handle, device_name, op_name,\n\u001b[1;32m     54\u001b[0m                                       inputs, attrs, num_outputs)\n\u001b[1;32m     55\u001b[0m \u001b[39mexcept\u001b[39;00m core\u001b[39m.\u001b[39m_NotOkStatusException \u001b[39mas\u001b[39;00m e:\n\u001b[1;32m     56\u001b[0m   \u001b[39mif\u001b[39;00m name \u001b[39mis\u001b[39;00m \u001b[39mnot\u001b[39;00m \u001b[39mNone\u001b[39;00m:\n",
      "\u001b[0;31mInvalidArgumentError\u001b[0m: Graph execution error:\n\nDetected at node sub defined at (most recent call last):\n  File \"/Users/nicolacecere/opt/anaconda3/envs/DMTS/lib/python3.9/runpy.py\", line 197, in _run_module_as_main\n\n  File \"/Users/nicolacecere/opt/anaconda3/envs/DMTS/lib/python3.9/runpy.py\", line 87, in _run_code\n\n  File \"/Users/nicolacecere/opt/anaconda3/envs/DMTS/lib/python3.9/site-packages/ipykernel_launcher.py\", line 17, in <module>\n\n  File \"/Users/nicolacecere/opt/anaconda3/envs/DMTS/lib/python3.9/site-packages/traitlets/config/application.py\", line 1077, in launch_instance\n\n  File \"/Users/nicolacecere/opt/anaconda3/envs/DMTS/lib/python3.9/site-packages/ipykernel/kernelapp.py\", line 737, in start\n\n  File \"/Users/nicolacecere/opt/anaconda3/envs/DMTS/lib/python3.9/site-packages/tornado/platform/asyncio.py\", line 195, in start\n\n  File \"/Users/nicolacecere/opt/anaconda3/envs/DMTS/lib/python3.9/asyncio/base_events.py\", line 601, in run_forever\n\n  File \"/Users/nicolacecere/opt/anaconda3/envs/DMTS/lib/python3.9/asyncio/base_events.py\", line 1905, in _run_once\n\n  File \"/Users/nicolacecere/opt/anaconda3/envs/DMTS/lib/python3.9/asyncio/events.py\", line 80, in _run\n\n  File \"/Users/nicolacecere/opt/anaconda3/envs/DMTS/lib/python3.9/site-packages/ipykernel/kernelbase.py\", line 524, in dispatch_queue\n\n  File \"/Users/nicolacecere/opt/anaconda3/envs/DMTS/lib/python3.9/site-packages/ipykernel/kernelbase.py\", line 513, in process_one\n\n  File \"/Users/nicolacecere/opt/anaconda3/envs/DMTS/lib/python3.9/site-packages/ipykernel/kernelbase.py\", line 418, in dispatch_shell\n\n  File \"/Users/nicolacecere/opt/anaconda3/envs/DMTS/lib/python3.9/site-packages/ipykernel/kernelbase.py\", line 758, in execute_request\n\n  File \"/Users/nicolacecere/opt/anaconda3/envs/DMTS/lib/python3.9/site-packages/ipykernel/ipkernel.py\", line 426, in do_execute\n\n  File \"/Users/nicolacecere/opt/anaconda3/envs/DMTS/lib/python3.9/site-packages/ipykernel/zmqshell.py\", line 549, in run_cell\n\n  File \"/Users/nicolacecere/opt/anaconda3/envs/DMTS/lib/python3.9/site-packages/IPython/core/interactiveshell.py\", line 3048, in run_cell\n\n  File \"/Users/nicolacecere/opt/anaconda3/envs/DMTS/lib/python3.9/site-packages/IPython/core/interactiveshell.py\", line 3103, in _run_cell\n\n  File \"/Users/nicolacecere/opt/anaconda3/envs/DMTS/lib/python3.9/site-packages/IPython/core/async_helpers.py\", line 129, in _pseudo_sync_runner\n\n  File \"/Users/nicolacecere/opt/anaconda3/envs/DMTS/lib/python3.9/site-packages/IPython/core/interactiveshell.py\", line 3308, in run_cell_async\n\n  File \"/Users/nicolacecere/opt/anaconda3/envs/DMTS/lib/python3.9/site-packages/IPython/core/interactiveshell.py\", line 3490, in run_ast_nodes\n\n  File \"/Users/nicolacecere/opt/anaconda3/envs/DMTS/lib/python3.9/site-packages/IPython/core/interactiveshell.py\", line 3550, in run_code\n\n  File \"/var/folders/52/p_k1rywx3y19_c8bd_1dh4ym0000gn/T/ipykernel_9020/2901593921.py\", line 1, in <module>\n\n  File \"/Users/nicolacecere/opt/anaconda3/envs/DMTS/lib/python3.9/site-packages/keras/src/utils/traceback_utils.py\", line 65, in error_handler\n\n  File \"/Users/nicolacecere/opt/anaconda3/envs/DMTS/lib/python3.9/site-packages/keras/src/engine/training.py\", line 2296, in evaluate\n\n  File \"/Users/nicolacecere/opt/anaconda3/envs/DMTS/lib/python3.9/site-packages/keras/src/engine/training.py\", line 4108, in run_step\n\n  File \"/Users/nicolacecere/opt/anaconda3/envs/DMTS/lib/python3.9/site-packages/keras/src/engine/training.py\", line 2066, in test_function\n\n  File \"/Users/nicolacecere/opt/anaconda3/envs/DMTS/lib/python3.9/site-packages/keras/src/engine/training.py\", line 2049, in step_function\n\n  File \"/Users/nicolacecere/opt/anaconda3/envs/DMTS/lib/python3.9/site-packages/keras/src/engine/training.py\", line 2037, in run_step\n\n  File \"/Users/nicolacecere/opt/anaconda3/envs/DMTS/lib/python3.9/site-packages/keras/src/engine/training.py\", line 1920, in test_step\n\n  File \"/Users/nicolacecere/opt/anaconda3/envs/DMTS/lib/python3.9/site-packages/keras/src/engine/training.py\", line 1249, in compute_metrics\n\n  File \"/Users/nicolacecere/opt/anaconda3/envs/DMTS/lib/python3.9/site-packages/keras/src/engine/compile_utils.py\", line 620, in update_state\n\n  File \"/Users/nicolacecere/opt/anaconda3/envs/DMTS/lib/python3.9/site-packages/keras/src/utils/metrics_utils.py\", line 77, in decorated\n\n  File \"/Users/nicolacecere/opt/anaconda3/envs/DMTS/lib/python3.9/site-packages/keras/src/metrics/base_metric.py\", line 140, in update_state_fn\n\n  File \"/Users/nicolacecere/opt/anaconda3/envs/DMTS/lib/python3.9/site-packages/keras/src/metrics/base_metric.py\", line 723, in update_state\n\n  File \"/Users/nicolacecere/opt/anaconda3/envs/DMTS/lib/python3.9/site-packages/keras/src/losses.py\", line 1848, in mean_absolute_error\n\nIncompatible shapes: [3,1260] vs. [3,504]\n\t [[{{node sub}}]] [Op:__inference_test_function_263372]"
     ]
    }
   ],
   "source": [
    "test_loss = model.evaluate(X_test, y_test, verbose=1)\n",
    "print(f\"Test Loss (Mean Squared Error): {test_loss}\")"
   ]
  },
  {
   "cell_type": "code",
   "execution_count": 49,
   "metadata": {},
   "outputs": [
    {
     "ename": "ValueError",
     "evalue": "in user code:\n\n    File \"/Users/nicolacecere/opt/anaconda3/envs/DMTS/lib/python3.9/site-packages/keras/src/engine/training.py\", line 2440, in predict_function  *\n        return step_function(self, iterator)\n    File \"/Users/nicolacecere/opt/anaconda3/envs/DMTS/lib/python3.9/site-packages/keras/src/engine/training.py\", line 2425, in step_function  **\n        outputs = model.distribute_strategy.run(run_step, args=(data,))\n    File \"/Users/nicolacecere/opt/anaconda3/envs/DMTS/lib/python3.9/site-packages/keras/src/engine/training.py\", line 2413, in run_step  **\n        outputs = model.predict_step(data)\n    File \"/Users/nicolacecere/opt/anaconda3/envs/DMTS/lib/python3.9/site-packages/keras/src/engine/training.py\", line 2381, in predict_step\n        return self(x, training=False)\n    File \"/Users/nicolacecere/opt/anaconda3/envs/DMTS/lib/python3.9/site-packages/keras/src/utils/traceback_utils.py\", line 70, in error_handler\n        raise e.with_traceback(filtered_tb) from None\n    File \"/Users/nicolacecere/opt/anaconda3/envs/DMTS/lib/python3.9/site-packages/keras/src/engine/input_spec.py\", line 298, in assert_input_compatibility\n        raise ValueError(\n\n    ValueError: Input 0 of layer \"LSTM_regressor\" is incompatible with the layer: expected shape=(None, 1260, 8), found shape=(None, 504, 8)\n",
     "output_type": "error",
     "traceback": [
      "\u001b[0;31m---------------------------------------------------------------------------\u001b[0m",
      "\u001b[0;31mValueError\u001b[0m                                Traceback (most recent call last)",
      "\u001b[1;32m/Users/nicolacecere/GitHub/UPM-Master/Stock_Market_TS_Prediction/models/LSTM.ipynb Cell 9\u001b[0m line \u001b[0;36m1\n\u001b[0;32m----> <a href='vscode-notebook-cell:/Users/nicolacecere/GitHub/UPM-Master/Stock_Market_TS_Prediction/models/LSTM.ipynb#W2sZmlsZQ%3D%3D?line=0'>1</a>\u001b[0m y_pred \u001b[39m=\u001b[39m model\u001b[39m.\u001b[39;49mpredict(X_test)\n\u001b[1;32m      <a href='vscode-notebook-cell:/Users/nicolacecere/GitHub/UPM-Master/Stock_Market_TS_Prediction/models/LSTM.ipynb#W2sZmlsZQ%3D%3D?line=1'>2</a>\u001b[0m \u001b[39m# Plotting the actual vs predicted values\u001b[39;00m\n\u001b[1;32m      <a href='vscode-notebook-cell:/Users/nicolacecere/GitHub/UPM-Master/Stock_Market_TS_Prediction/models/LSTM.ipynb#W2sZmlsZQ%3D%3D?line=2'>3</a>\u001b[0m plt\u001b[39m.\u001b[39mfigure(figsize\u001b[39m=\u001b[39m(\u001b[39m12\u001b[39m, \u001b[39m6\u001b[39m))\n",
      "File \u001b[0;32m~/opt/anaconda3/envs/DMTS/lib/python3.9/site-packages/keras/src/utils/traceback_utils.py:70\u001b[0m, in \u001b[0;36mfilter_traceback.<locals>.error_handler\u001b[0;34m(*args, **kwargs)\u001b[0m\n\u001b[1;32m     67\u001b[0m     filtered_tb \u001b[39m=\u001b[39m _process_traceback_frames(e\u001b[39m.\u001b[39m__traceback__)\n\u001b[1;32m     68\u001b[0m     \u001b[39m# To get the full stack trace, call:\u001b[39;00m\n\u001b[1;32m     69\u001b[0m     \u001b[39m# `tf.debugging.disable_traceback_filtering()`\u001b[39;00m\n\u001b[0;32m---> 70\u001b[0m     \u001b[39mraise\u001b[39;00m e\u001b[39m.\u001b[39mwith_traceback(filtered_tb) \u001b[39mfrom\u001b[39;00m \u001b[39mNone\u001b[39;00m\n\u001b[1;32m     71\u001b[0m \u001b[39mfinally\u001b[39;00m:\n\u001b[1;32m     72\u001b[0m     \u001b[39mdel\u001b[39;00m filtered_tb\n",
      "File \u001b[0;32m/var/folders/52/p_k1rywx3y19_c8bd_1dh4ym0000gn/T/__autograph_generated_filef15r6cc6.py:15\u001b[0m, in \u001b[0;36mouter_factory.<locals>.inner_factory.<locals>.tf__predict_function\u001b[0;34m(iterator)\u001b[0m\n\u001b[1;32m     13\u001b[0m \u001b[39mtry\u001b[39;00m:\n\u001b[1;32m     14\u001b[0m     do_return \u001b[39m=\u001b[39m \u001b[39mTrue\u001b[39;00m\n\u001b[0;32m---> 15\u001b[0m     retval_ \u001b[39m=\u001b[39m ag__\u001b[39m.\u001b[39mconverted_call(ag__\u001b[39m.\u001b[39mld(step_function), (ag__\u001b[39m.\u001b[39mld(\u001b[39mself\u001b[39m), ag__\u001b[39m.\u001b[39mld(iterator)), \u001b[39mNone\u001b[39;00m, fscope)\n\u001b[1;32m     16\u001b[0m \u001b[39mexcept\u001b[39;00m:\n\u001b[1;32m     17\u001b[0m     do_return \u001b[39m=\u001b[39m \u001b[39mFalse\u001b[39;00m\n",
      "\u001b[0;31mValueError\u001b[0m: in user code:\n\n    File \"/Users/nicolacecere/opt/anaconda3/envs/DMTS/lib/python3.9/site-packages/keras/src/engine/training.py\", line 2440, in predict_function  *\n        return step_function(self, iterator)\n    File \"/Users/nicolacecere/opt/anaconda3/envs/DMTS/lib/python3.9/site-packages/keras/src/engine/training.py\", line 2425, in step_function  **\n        outputs = model.distribute_strategy.run(run_step, args=(data,))\n    File \"/Users/nicolacecere/opt/anaconda3/envs/DMTS/lib/python3.9/site-packages/keras/src/engine/training.py\", line 2413, in run_step  **\n        outputs = model.predict_step(data)\n    File \"/Users/nicolacecere/opt/anaconda3/envs/DMTS/lib/python3.9/site-packages/keras/src/engine/training.py\", line 2381, in predict_step\n        return self(x, training=False)\n    File \"/Users/nicolacecere/opt/anaconda3/envs/DMTS/lib/python3.9/site-packages/keras/src/utils/traceback_utils.py\", line 70, in error_handler\n        raise e.with_traceback(filtered_tb) from None\n    File \"/Users/nicolacecere/opt/anaconda3/envs/DMTS/lib/python3.9/site-packages/keras/src/engine/input_spec.py\", line 298, in assert_input_compatibility\n        raise ValueError(\n\n    ValueError: Input 0 of layer \"LSTM_regressor\" is incompatible with the layer: expected shape=(None, 1260, 8), found shape=(None, 504, 8)\n"
     ]
    }
   ],
   "source": [
    "y_pred = model.predict(X_test)\n",
    "# Plotting the actual vs predicted values\n",
    "plt.figure(figsize=(12, 6))\n",
    "plt.plot(y_test, label=\"Actual\", color=\"blue\", marker=\"o\")\n",
    "plt.plot(\n",
    "    y_pred, label=\"Predicted\", color=\"red\", linestyle=\"dashed\", marker=\"x\"\n",
    ")\n",
    "plt.title(\"Actual vs Predicted Values\")\n",
    "plt.xlabel(\"Sample Index\")\n",
    "plt.ylabel(\"Value\")\n",
    "plt.grid(True)\n",
    "plt.show()\n"
   ]
  },
  {
   "cell_type": "code",
   "execution_count": 48,
   "metadata": {},
   "outputs": [
    {
     "data": {
      "text/plain": [
       "(5, 1260, 8)"
      ]
     },
     "execution_count": 48,
     "metadata": {},
     "output_type": "execute_result"
    }
   ],
   "source": [
    "X_train.shape"
   ]
  },
  {
   "cell_type": "code",
   "execution_count": 33,
   "metadata": {},
   "outputs": [
    {
     "data": {
      "text/plain": [
       "array([[1.4097782, 1.3396467, 1.2977468, ..., 1.4271364, 1.3305497,\n",
       "        1.3861374],\n",
       "       [1.4097782, 1.3396467, 1.2977468, ..., 1.4271364, 1.3305497,\n",
       "        1.3861374],\n",
       "       [1.4097782, 1.3396467, 1.2977468, ..., 1.4271364, 1.3305497,\n",
       "        1.3861374],\n",
       "       ...,\n",
       "       [1.4097779, 1.3396468, 1.2977469, ..., 1.4271365, 1.3305497,\n",
       "        1.3861375],\n",
       "       [1.4097779, 1.3396468, 1.2977469, ..., 1.4271365, 1.3305497,\n",
       "        1.3861375],\n",
       "       [1.4097779, 1.3396468, 1.2977469, ..., 1.4271365, 1.3305497,\n",
       "        1.3861375]], dtype=float32)"
      ]
     },
     "execution_count": 33,
     "metadata": {},
     "output_type": "execute_result"
    }
   ],
   "source": [
    "y_pred"
   ]
  },
  {
   "cell_type": "code",
   "execution_count": 56,
   "metadata": {},
   "outputs": [
    {
     "data": {
      "text/html": [
       "<div>\n",
       "<style scoped>\n",
       "    .dataframe tbody tr th:only-of-type {\n",
       "        vertical-align: middle;\n",
       "    }\n",
       "\n",
       "    .dataframe tbody tr th {\n",
       "        vertical-align: top;\n",
       "    }\n",
       "\n",
       "    .dataframe thead th {\n",
       "        text-align: right;\n",
       "    }\n",
       "</style>\n",
       "<table border=\"1\" class=\"dataframe\">\n",
       "  <thead>\n",
       "    <tr style=\"text-align: right;\">\n",
       "      <th></th>\n",
       "      <th>Low</th>\n",
       "      <th>Open</th>\n",
       "      <th>Volume</th>\n",
       "      <th>High</th>\n",
       "      <th>Close</th>\n",
       "      <th>Year</th>\n",
       "      <th>Month</th>\n",
       "      <th>Day</th>\n",
       "    </tr>\n",
       "  </thead>\n",
       "  <tbody>\n",
       "    <tr>\n",
       "      <th>9526</th>\n",
       "      <td>54.322498</td>\n",
       "      <td>55.195000</td>\n",
       "      <td>384986800</td>\n",
       "      <td>55.340000</td>\n",
       "      <td>54.415001</td>\n",
       "      <td>2018</td>\n",
       "      <td>9</td>\n",
       "      <td>21</td>\n",
       "    </tr>\n",
       "    <tr>\n",
       "      <th>9527</th>\n",
       "      <td>54.157501</td>\n",
       "      <td>54.205002</td>\n",
       "      <td>110773600</td>\n",
       "      <td>55.314999</td>\n",
       "      <td>55.197498</td>\n",
       "      <td>2018</td>\n",
       "      <td>9</td>\n",
       "      <td>24</td>\n",
       "    </tr>\n",
       "    <tr>\n",
       "      <th>9528</th>\n",
       "      <td>54.924999</td>\n",
       "      <td>54.937500</td>\n",
       "      <td>98217600</td>\n",
       "      <td>55.705002</td>\n",
       "      <td>55.547501</td>\n",
       "      <td>2018</td>\n",
       "      <td>9</td>\n",
       "      <td>25</td>\n",
       "    </tr>\n",
       "    <tr>\n",
       "      <th>9529</th>\n",
       "      <td>54.939999</td>\n",
       "      <td>55.250000</td>\n",
       "      <td>95938800</td>\n",
       "      <td>55.937500</td>\n",
       "      <td>55.105000</td>\n",
       "      <td>2018</td>\n",
       "      <td>9</td>\n",
       "      <td>26</td>\n",
       "    </tr>\n",
       "    <tr>\n",
       "      <th>9530</th>\n",
       "      <td>55.884998</td>\n",
       "      <td>55.955002</td>\n",
       "      <td>120724800</td>\n",
       "      <td>56.610001</td>\n",
       "      <td>56.237499</td>\n",
       "      <td>2018</td>\n",
       "      <td>9</td>\n",
       "      <td>27</td>\n",
       "    </tr>\n",
       "  </tbody>\n",
       "</table>\n",
       "</div>"
      ],
      "text/plain": [
       "            Low       Open     Volume       High      Close  Year  Month  Day\n",
       "9526  54.322498  55.195000  384986800  55.340000  54.415001  2018      9   21\n",
       "9527  54.157501  54.205002  110773600  55.314999  55.197498  2018      9   24\n",
       "9528  54.924999  54.937500   98217600  55.705002  55.547501  2018      9   25\n",
       "9529  54.939999  55.250000   95938800  55.937500  55.105000  2018      9   26\n",
       "9530  55.884998  55.955002  120724800  56.610001  56.237499  2018      9   27"
      ]
     },
     "execution_count": 56,
     "metadata": {},
     "output_type": "execute_result"
    }
   ],
   "source": [
    "train.tail()"
   ]
  },
  {
   "cell_type": "code",
   "execution_count": 57,
   "metadata": {},
   "outputs": [
    {
     "data": {
      "text/html": [
       "<div>\n",
       "<style scoped>\n",
       "    .dataframe tbody tr th:only-of-type {\n",
       "        vertical-align: middle;\n",
       "    }\n",
       "\n",
       "    .dataframe tbody tr th {\n",
       "        vertical-align: top;\n",
       "    }\n",
       "\n",
       "    .dataframe thead th {\n",
       "        text-align: right;\n",
       "    }\n",
       "</style>\n",
       "<table border=\"1\" class=\"dataframe\">\n",
       "  <thead>\n",
       "    <tr style=\"text-align: right;\">\n",
       "      <th></th>\n",
       "      <th>Low</th>\n",
       "      <th>Open</th>\n",
       "      <th>Volume</th>\n",
       "      <th>High</th>\n",
       "      <th>Close</th>\n",
       "      <th>Year</th>\n",
       "      <th>Month</th>\n",
       "      <th>Day</th>\n",
       "    </tr>\n",
       "  </thead>\n",
       "  <tbody>\n",
       "    <tr>\n",
       "      <th>10585</th>\n",
       "      <td>141.919998</td>\n",
       "      <td>147.070007</td>\n",
       "      <td>64727200</td>\n",
       "      <td>147.300003</td>\n",
       "      <td>142.910004</td>\n",
       "      <td>2022</td>\n",
       "      <td>12</td>\n",
       "      <td>6</td>\n",
       "    </tr>\n",
       "    <tr>\n",
       "      <th>10586</th>\n",
       "      <td>140.000000</td>\n",
       "      <td>142.190002</td>\n",
       "      <td>69721100</td>\n",
       "      <td>143.369995</td>\n",
       "      <td>140.940002</td>\n",
       "      <td>2022</td>\n",
       "      <td>12</td>\n",
       "      <td>7</td>\n",
       "    </tr>\n",
       "    <tr>\n",
       "      <th>10587</th>\n",
       "      <td>141.100006</td>\n",
       "      <td>142.360001</td>\n",
       "      <td>62128300</td>\n",
       "      <td>143.520004</td>\n",
       "      <td>142.649994</td>\n",
       "      <td>2022</td>\n",
       "      <td>12</td>\n",
       "      <td>8</td>\n",
       "    </tr>\n",
       "    <tr>\n",
       "      <th>10588</th>\n",
       "      <td>140.899994</td>\n",
       "      <td>142.339996</td>\n",
       "      <td>76069500</td>\n",
       "      <td>145.570007</td>\n",
       "      <td>142.160004</td>\n",
       "      <td>2022</td>\n",
       "      <td>12</td>\n",
       "      <td>9</td>\n",
       "    </tr>\n",
       "    <tr>\n",
       "      <th>10589</th>\n",
       "      <td>141.070007</td>\n",
       "      <td>142.699997</td>\n",
       "      <td>20280660</td>\n",
       "      <td>143.000000</td>\n",
       "      <td>142.240005</td>\n",
       "      <td>2022</td>\n",
       "      <td>12</td>\n",
       "      <td>12</td>\n",
       "    </tr>\n",
       "  </tbody>\n",
       "</table>\n",
       "</div>"
      ],
      "text/plain": [
       "              Low        Open    Volume        High       Close  Year  Month  \\\n",
       "10585  141.919998  147.070007  64727200  147.300003  142.910004  2022     12   \n",
       "10586  140.000000  142.190002  69721100  143.369995  140.940002  2022     12   \n",
       "10587  141.100006  142.360001  62128300  143.520004  142.649994  2022     12   \n",
       "10588  140.899994  142.339996  76069500  145.570007  142.160004  2022     12   \n",
       "10589  141.070007  142.699997  20280660  143.000000  142.240005  2022     12   \n",
       "\n",
       "       Day  \n",
       "10585    6  \n",
       "10586    7  \n",
       "10587    8  \n",
       "10588    9  \n",
       "10589   12  "
      ]
     },
     "execution_count": 57,
     "metadata": {},
     "output_type": "execute_result"
    }
   ],
   "source": [
    "test.tail()"
   ]
  },
  {
   "cell_type": "code",
   "execution_count": 58,
   "metadata": {},
   "outputs": [
    {
     "name": "stdout",
     "output_type": "stream",
     "text": [
      "<class 'pandas.core.frame.DataFrame'>\n",
      "RangeIndex: 1059 entries, 9531 to 10589\n",
      "Data columns (total 8 columns):\n",
      " #   Column  Non-Null Count  Dtype  \n",
      "---  ------  --------------  -----  \n",
      " 0   Low     1059 non-null   float64\n",
      " 1   Open    1059 non-null   float64\n",
      " 2   Volume  1059 non-null   int64  \n",
      " 3   High    1059 non-null   float64\n",
      " 4   Close   1059 non-null   float64\n",
      " 5   Year    1059 non-null   int32  \n",
      " 6   Month   1059 non-null   int32  \n",
      " 7   Day     1059 non-null   int32  \n",
      "dtypes: float64(4), int32(3), int64(1)\n",
      "memory usage: 53.9 KB\n"
     ]
    }
   ],
   "source": [
    "test.info()"
   ]
  },
  {
   "cell_type": "code",
   "execution_count": null,
   "metadata": {},
   "outputs": [],
   "source": []
  }
 ],
 "metadata": {
  "kernelspec": {
   "display_name": "DataMining",
   "language": "python",
   "name": "python3"
  },
  "language_info": {
   "codemirror_mode": {
    "name": "ipython",
    "version": 3
   },
   "file_extension": ".py",
   "mimetype": "text/x-python",
   "name": "python",
   "nbconvert_exporter": "python",
   "pygments_lexer": "ipython3",
   "version": "3.9.18"
  }
 },
 "nbformat": 4,
 "nbformat_minor": 2
}
