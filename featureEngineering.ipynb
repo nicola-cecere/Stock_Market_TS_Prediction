{
 "cells": [
  {
   "cell_type": "code",
   "execution_count": 1,
   "id": "initial_id",
   "metadata": {
    "collapsed": true,
    "ExecuteTime": {
     "end_time": "2023-11-13T08:36:41.512450Z",
     "start_time": "2023-11-13T08:36:39.918942Z"
    }
   },
   "outputs": [],
   "source": [
    "import pandas as pd\n",
    "import seaborn as sns\n",
    "import matplotlib.pyplot as plt\n",
    "\n",
    "train_df = pd.read_csv('data/sp500/SP500_training.csv')\n",
    "\n",
    "train_df['Date'] = pd.to_datetime(train_df['Date'])\n",
    "\n",
    "# Extract Year, Month and Day\n",
    "train_df['Year'] = train_df['Date'].dt.year\n",
    "train_df['Month'] = train_df['Date'].dt.month\n",
    "train_df['Day'] = train_df['Date'].dt.day"
   ]
  },
  {
   "cell_type": "code",
   "execution_count": 2,
   "outputs": [
    {
     "data": {
      "text/plain": "  Ticker       Date        Low       Open     Volume       High      Close  \\\n0    DTE 1970-01-02  18.297873  18.297873     7520.0  18.936171  18.936171   \n1     KR 1970-01-02   0.878906   0.000000   128000.0   0.886719   0.882813   \n2     GD 1970-01-02   0.703125   0.000000   232000.0   0.718750   0.718750   \n3    JNJ 1970-01-02   1.218750   1.250000  1195200.0   1.253472   1.218750   \n4     PG 1970-01-02   1.708984   1.710938   832000.0   1.722656   1.718750   \n\n   Year  Month  Day  \n0  1970      1    2  \n1  1970      1    2  \n2  1970      1    2  \n3  1970      1    2  \n4  1970      1    2  ",
      "text/html": "<div>\n<style scoped>\n    .dataframe tbody tr th:only-of-type {\n        vertical-align: middle;\n    }\n\n    .dataframe tbody tr th {\n        vertical-align: top;\n    }\n\n    .dataframe thead th {\n        text-align: right;\n    }\n</style>\n<table border=\"1\" class=\"dataframe\">\n  <thead>\n    <tr style=\"text-align: right;\">\n      <th></th>\n      <th>Ticker</th>\n      <th>Date</th>\n      <th>Low</th>\n      <th>Open</th>\n      <th>Volume</th>\n      <th>High</th>\n      <th>Close</th>\n      <th>Year</th>\n      <th>Month</th>\n      <th>Day</th>\n    </tr>\n  </thead>\n  <tbody>\n    <tr>\n      <th>0</th>\n      <td>DTE</td>\n      <td>1970-01-02</td>\n      <td>18.297873</td>\n      <td>18.297873</td>\n      <td>7520.0</td>\n      <td>18.936171</td>\n      <td>18.936171</td>\n      <td>1970</td>\n      <td>1</td>\n      <td>2</td>\n    </tr>\n    <tr>\n      <th>1</th>\n      <td>KR</td>\n      <td>1970-01-02</td>\n      <td>0.878906</td>\n      <td>0.000000</td>\n      <td>128000.0</td>\n      <td>0.886719</td>\n      <td>0.882813</td>\n      <td>1970</td>\n      <td>1</td>\n      <td>2</td>\n    </tr>\n    <tr>\n      <th>2</th>\n      <td>GD</td>\n      <td>1970-01-02</td>\n      <td>0.703125</td>\n      <td>0.000000</td>\n      <td>232000.0</td>\n      <td>0.718750</td>\n      <td>0.718750</td>\n      <td>1970</td>\n      <td>1</td>\n      <td>2</td>\n    </tr>\n    <tr>\n      <th>3</th>\n      <td>JNJ</td>\n      <td>1970-01-02</td>\n      <td>1.218750</td>\n      <td>1.250000</td>\n      <td>1195200.0</td>\n      <td>1.253472</td>\n      <td>1.218750</td>\n      <td>1970</td>\n      <td>1</td>\n      <td>2</td>\n    </tr>\n    <tr>\n      <th>4</th>\n      <td>PG</td>\n      <td>1970-01-02</td>\n      <td>1.708984</td>\n      <td>1.710938</td>\n      <td>832000.0</td>\n      <td>1.722656</td>\n      <td>1.718750</td>\n      <td>1970</td>\n      <td>1</td>\n      <td>2</td>\n    </tr>\n  </tbody>\n</table>\n</div>"
     },
     "execution_count": 2,
     "metadata": {},
     "output_type": "execute_result"
    }
   ],
   "source": [
    "train_df.head()"
   ],
   "metadata": {
    "collapsed": false,
    "ExecuteTime": {
     "end_time": "2023-11-13T08:36:41.520929Z",
     "start_time": "2023-11-13T08:36:41.513787Z"
    }
   },
   "id": "5550320af2f586b3"
  },
  {
   "cell_type": "code",
   "execution_count": 3,
   "outputs": [],
   "source": [
    "# Calculate the mean close price per month\n",
    "monthly_mean = train_df.groupby([ 'Month'])['Close'].mean().reset_index()\n",
    "\n",
    "# Calculate the mean close price per year\n",
    "yearly_mean = train_df.groupby([ 'Year'])['Close'].mean().reset_index()"
   ],
   "metadata": {
    "collapsed": false,
    "ExecuteTime": {
     "end_time": "2023-11-13T08:36:41.597938Z",
     "start_time": "2023-11-13T08:36:41.522258Z"
    }
   },
   "id": "e8fc9df86da2e7"
  },
  {
   "cell_type": "code",
   "execution_count": 4,
   "outputs": [
    {
     "data": {
      "text/plain": "    Month       Close\n0       1  301.026157\n1       2  307.499255\n2       3  309.583922\n3       4  311.847605\n4       5  313.306519\n5       6  309.030268\n6       7  312.089887\n7       8  314.851351\n8       9  314.879600\n9      10  302.681081\n10     11  302.611422\n11     12  301.207440",
      "text/html": "<div>\n<style scoped>\n    .dataframe tbody tr th:only-of-type {\n        vertical-align: middle;\n    }\n\n    .dataframe tbody tr th {\n        vertical-align: top;\n    }\n\n    .dataframe thead th {\n        text-align: right;\n    }\n</style>\n<table border=\"1\" class=\"dataframe\">\n  <thead>\n    <tr style=\"text-align: right;\">\n      <th></th>\n      <th>Month</th>\n      <th>Close</th>\n    </tr>\n  </thead>\n  <tbody>\n    <tr>\n      <th>0</th>\n      <td>1</td>\n      <td>301.026157</td>\n    </tr>\n    <tr>\n      <th>1</th>\n      <td>2</td>\n      <td>307.499255</td>\n    </tr>\n    <tr>\n      <th>2</th>\n      <td>3</td>\n      <td>309.583922</td>\n    </tr>\n    <tr>\n      <th>3</th>\n      <td>4</td>\n      <td>311.847605</td>\n    </tr>\n    <tr>\n      <th>4</th>\n      <td>5</td>\n      <td>313.306519</td>\n    </tr>\n    <tr>\n      <th>5</th>\n      <td>6</td>\n      <td>309.030268</td>\n    </tr>\n    <tr>\n      <th>6</th>\n      <td>7</td>\n      <td>312.089887</td>\n    </tr>\n    <tr>\n      <th>7</th>\n      <td>8</td>\n      <td>314.851351</td>\n    </tr>\n    <tr>\n      <th>8</th>\n      <td>9</td>\n      <td>314.879600</td>\n    </tr>\n    <tr>\n      <th>9</th>\n      <td>10</td>\n      <td>302.681081</td>\n    </tr>\n    <tr>\n      <th>10</th>\n      <td>11</td>\n      <td>302.611422</td>\n    </tr>\n    <tr>\n      <th>11</th>\n      <td>12</td>\n      <td>301.207440</td>\n    </tr>\n  </tbody>\n</table>\n</div>"
     },
     "execution_count": 4,
     "metadata": {},
     "output_type": "execute_result"
    }
   ],
   "source": [
    "monthly_mean"
   ],
   "metadata": {
    "collapsed": false,
    "ExecuteTime": {
     "end_time": "2023-11-13T08:36:41.602435Z",
     "start_time": "2023-11-13T08:36:41.599716Z"
    }
   },
   "id": "8a1181dce2b6e77"
  },
  {
   "cell_type": "code",
   "execution_count": 5,
   "outputs": [
    {
     "data": {
      "text/plain": "    Year       Close\n0   1970    5.000259\n1   1971    5.704564\n2   1972    5.630481\n3   1973    4.949846\n4   1974    3.801999\n5   1975    4.070658\n6   1976    4.882082\n7   1977    4.860051\n8   1978    4.625405\n9   1979    4.614798\n10  1980    6.871626\n11  1981    8.200403\n12  1982    8.147659\n13  1983   13.364844\n14  1984   14.073053\n15  1985   18.638388\n16  1986   24.045004\n17  1987   28.142931\n18  1988   29.208127\n19  1989   44.127760\n20  1990   44.030304\n21  1991   51.164459\n22  1992   55.435689\n23  1993   81.025351\n24  1994   88.506963\n25  1995  119.777425\n26  1996  147.351075\n27  1997  183.650483\n28  1998  260.874048\n29  1999  260.717601\n30  2000  224.777061\n31  2001  256.600455\n32  2002  260.898892\n33  2003  263.181040\n34  2004  314.493562\n35  2005  304.328542\n36  2006  331.075512\n37  2007  399.244503\n38  2008  391.209549\n39  2009  297.605427\n40  2010  368.642378\n41  2011  364.297982\n42  2012  386.408481\n43  2013  492.393916\n44  2014  573.334280\n45  2015  608.140627\n46  2016  617.511540\n47  2017  744.507154\n48  2018  860.891742\n49  2019  869.970684",
      "text/html": "<div>\n<style scoped>\n    .dataframe tbody tr th:only-of-type {\n        vertical-align: middle;\n    }\n\n    .dataframe tbody tr th {\n        vertical-align: top;\n    }\n\n    .dataframe thead th {\n        text-align: right;\n    }\n</style>\n<table border=\"1\" class=\"dataframe\">\n  <thead>\n    <tr style=\"text-align: right;\">\n      <th></th>\n      <th>Year</th>\n      <th>Close</th>\n    </tr>\n  </thead>\n  <tbody>\n    <tr>\n      <th>0</th>\n      <td>1970</td>\n      <td>5.000259</td>\n    </tr>\n    <tr>\n      <th>1</th>\n      <td>1971</td>\n      <td>5.704564</td>\n    </tr>\n    <tr>\n      <th>2</th>\n      <td>1972</td>\n      <td>5.630481</td>\n    </tr>\n    <tr>\n      <th>3</th>\n      <td>1973</td>\n      <td>4.949846</td>\n    </tr>\n    <tr>\n      <th>4</th>\n      <td>1974</td>\n      <td>3.801999</td>\n    </tr>\n    <tr>\n      <th>5</th>\n      <td>1975</td>\n      <td>4.070658</td>\n    </tr>\n    <tr>\n      <th>6</th>\n      <td>1976</td>\n      <td>4.882082</td>\n    </tr>\n    <tr>\n      <th>7</th>\n      <td>1977</td>\n      <td>4.860051</td>\n    </tr>\n    <tr>\n      <th>8</th>\n      <td>1978</td>\n      <td>4.625405</td>\n    </tr>\n    <tr>\n      <th>9</th>\n      <td>1979</td>\n      <td>4.614798</td>\n    </tr>\n    <tr>\n      <th>10</th>\n      <td>1980</td>\n      <td>6.871626</td>\n    </tr>\n    <tr>\n      <th>11</th>\n      <td>1981</td>\n      <td>8.200403</td>\n    </tr>\n    <tr>\n      <th>12</th>\n      <td>1982</td>\n      <td>8.147659</td>\n    </tr>\n    <tr>\n      <th>13</th>\n      <td>1983</td>\n      <td>13.364844</td>\n    </tr>\n    <tr>\n      <th>14</th>\n      <td>1984</td>\n      <td>14.073053</td>\n    </tr>\n    <tr>\n      <th>15</th>\n      <td>1985</td>\n      <td>18.638388</td>\n    </tr>\n    <tr>\n      <th>16</th>\n      <td>1986</td>\n      <td>24.045004</td>\n    </tr>\n    <tr>\n      <th>17</th>\n      <td>1987</td>\n      <td>28.142931</td>\n    </tr>\n    <tr>\n      <th>18</th>\n      <td>1988</td>\n      <td>29.208127</td>\n    </tr>\n    <tr>\n      <th>19</th>\n      <td>1989</td>\n      <td>44.127760</td>\n    </tr>\n    <tr>\n      <th>20</th>\n      <td>1990</td>\n      <td>44.030304</td>\n    </tr>\n    <tr>\n      <th>21</th>\n      <td>1991</td>\n      <td>51.164459</td>\n    </tr>\n    <tr>\n      <th>22</th>\n      <td>1992</td>\n      <td>55.435689</td>\n    </tr>\n    <tr>\n      <th>23</th>\n      <td>1993</td>\n      <td>81.025351</td>\n    </tr>\n    <tr>\n      <th>24</th>\n      <td>1994</td>\n      <td>88.506963</td>\n    </tr>\n    <tr>\n      <th>25</th>\n      <td>1995</td>\n      <td>119.777425</td>\n    </tr>\n    <tr>\n      <th>26</th>\n      <td>1996</td>\n      <td>147.351075</td>\n    </tr>\n    <tr>\n      <th>27</th>\n      <td>1997</td>\n      <td>183.650483</td>\n    </tr>\n    <tr>\n      <th>28</th>\n      <td>1998</td>\n      <td>260.874048</td>\n    </tr>\n    <tr>\n      <th>29</th>\n      <td>1999</td>\n      <td>260.717601</td>\n    </tr>\n    <tr>\n      <th>30</th>\n      <td>2000</td>\n      <td>224.777061</td>\n    </tr>\n    <tr>\n      <th>31</th>\n      <td>2001</td>\n      <td>256.600455</td>\n    </tr>\n    <tr>\n      <th>32</th>\n      <td>2002</td>\n      <td>260.898892</td>\n    </tr>\n    <tr>\n      <th>33</th>\n      <td>2003</td>\n      <td>263.181040</td>\n    </tr>\n    <tr>\n      <th>34</th>\n      <td>2004</td>\n      <td>314.493562</td>\n    </tr>\n    <tr>\n      <th>35</th>\n      <td>2005</td>\n      <td>304.328542</td>\n    </tr>\n    <tr>\n      <th>36</th>\n      <td>2006</td>\n      <td>331.075512</td>\n    </tr>\n    <tr>\n      <th>37</th>\n      <td>2007</td>\n      <td>399.244503</td>\n    </tr>\n    <tr>\n      <th>38</th>\n      <td>2008</td>\n      <td>391.209549</td>\n    </tr>\n    <tr>\n      <th>39</th>\n      <td>2009</td>\n      <td>297.605427</td>\n    </tr>\n    <tr>\n      <th>40</th>\n      <td>2010</td>\n      <td>368.642378</td>\n    </tr>\n    <tr>\n      <th>41</th>\n      <td>2011</td>\n      <td>364.297982</td>\n    </tr>\n    <tr>\n      <th>42</th>\n      <td>2012</td>\n      <td>386.408481</td>\n    </tr>\n    <tr>\n      <th>43</th>\n      <td>2013</td>\n      <td>492.393916</td>\n    </tr>\n    <tr>\n      <th>44</th>\n      <td>2014</td>\n      <td>573.334280</td>\n    </tr>\n    <tr>\n      <th>45</th>\n      <td>2015</td>\n      <td>608.140627</td>\n    </tr>\n    <tr>\n      <th>46</th>\n      <td>2016</td>\n      <td>617.511540</td>\n    </tr>\n    <tr>\n      <th>47</th>\n      <td>2017</td>\n      <td>744.507154</td>\n    </tr>\n    <tr>\n      <th>48</th>\n      <td>2018</td>\n      <td>860.891742</td>\n    </tr>\n    <tr>\n      <th>49</th>\n      <td>2019</td>\n      <td>869.970684</td>\n    </tr>\n  </tbody>\n</table>\n</div>"
     },
     "execution_count": 5,
     "metadata": {},
     "output_type": "execute_result"
    }
   ],
   "source": [
    "yearly_mean"
   ],
   "metadata": {
    "collapsed": false,
    "ExecuteTime": {
     "end_time": "2023-11-13T08:36:41.607774Z",
     "start_time": "2023-11-13T08:36:41.605565Z"
    }
   },
   "id": "999fa7be7ce72f52"
  },
  {
   "cell_type": "code",
   "execution_count": 6,
   "outputs": [
    {
     "name": "stderr",
     "output_type": "stream",
     "text": [
      "/Users/lucapetracca/anaconda3/envs/dmts/lib/python3.10/site-packages/seaborn/_oldcore.py:1498: FutureWarning: is_categorical_dtype is deprecated and will be removed in a future version. Use isinstance(dtype, CategoricalDtype) instead\n",
      "  if pd.api.types.is_categorical_dtype(vector):\n",
      "/Users/lucapetracca/anaconda3/envs/dmts/lib/python3.10/site-packages/seaborn/_oldcore.py:1498: FutureWarning: is_categorical_dtype is deprecated and will be removed in a future version. Use isinstance(dtype, CategoricalDtype) instead\n",
      "  if pd.api.types.is_categorical_dtype(vector):\n",
      "/Users/lucapetracca/anaconda3/envs/dmts/lib/python3.10/site-packages/seaborn/_oldcore.py:1119: FutureWarning: use_inf_as_na option is deprecated and will be removed in a future version. Convert inf values to NaN before operating instead.\n",
      "  with pd.option_context('mode.use_inf_as_na', True):\n",
      "/Users/lucapetracca/anaconda3/envs/dmts/lib/python3.10/site-packages/seaborn/_oldcore.py:1119: FutureWarning: use_inf_as_na option is deprecated and will be removed in a future version. Convert inf values to NaN before operating instead.\n",
      "  with pd.option_context('mode.use_inf_as_na', True):\n"
     ]
    },
    {
     "ename": "TypeError",
     "evalue": "xticks() got multiple values for argument 'labels'",
     "output_type": "error",
     "traceback": [
      "\u001B[0;31m---------------------------------------------------------------------------\u001B[0m",
      "\u001B[0;31mTypeError\u001B[0m                                 Traceback (most recent call last)",
      "Cell \u001B[0;32mIn[6], line 11\u001B[0m\n\u001B[1;32m      8\u001B[0m plt\u001B[38;5;241m.\u001B[39mxlabel(\u001B[38;5;124m'\u001B[39m\u001B[38;5;124mYear\u001B[39m\u001B[38;5;124m'\u001B[39m)\n\u001B[1;32m      9\u001B[0m plt\u001B[38;5;241m.\u001B[39mylabel(\u001B[38;5;124m'\u001B[39m\u001B[38;5;124mMean Close Price\u001B[39m\u001B[38;5;124m'\u001B[39m)\n\u001B[0;32m---> 11\u001B[0m \u001B[43mplt\u001B[49m\u001B[38;5;241;43m.\u001B[39;49m\u001B[43mxticks\u001B[49m\u001B[43m(\u001B[49m\u001B[38;5;241;43m0\u001B[39;49m\u001B[43m,\u001B[49m\u001B[43m \u001B[49m\u001B[38;5;28;43mlen\u001B[39;49m\u001B[43m(\u001B[49m\u001B[43mlst_year\u001B[49m\u001B[43m)\u001B[49m\u001B[43m,\u001B[49m\u001B[43m \u001B[49m\u001B[43mlabels\u001B[49m\u001B[38;5;241;43m=\u001B[39;49m\u001B[43mlst_year\u001B[49m\u001B[43m,\u001B[49m\u001B[43m \u001B[49m\u001B[43mrotation\u001B[49m\u001B[38;5;241;43m=\u001B[39;49m\u001B[38;5;241;43m45\u001B[39;49m\u001B[43m)\u001B[49m  \u001B[38;5;66;03m# Plot every nth year\u001B[39;00m\n\u001B[1;32m     12\u001B[0m plt\u001B[38;5;241m.\u001B[39mgrid(\u001B[38;5;28;01mTrue\u001B[39;00m)  \u001B[38;5;66;03m# Adds a grid for better readability\u001B[39;00m\n\u001B[1;32m     14\u001B[0m plt\u001B[38;5;241m.\u001B[39mtight_layout()\n",
      "\u001B[0;31mTypeError\u001B[0m: xticks() got multiple values for argument 'labels'"
     ]
    },
    {
     "data": {
      "text/plain": "<Figure size 1200x600 with 1 Axes>",
      "image/png": "[encoded data removed]"
     },
     "metadata": {},
     "output_type": "display_data"
    }
   ],
   "source": [
    "lst_year= yearly_mean['Year'].tolist()\n",
    "\n",
    "# Using a line plot instead\n",
    "plt.figure(figsize=(12, 6))  # Adjust the figure size as needed\n",
    "sns.lineplot(data=yearly_mean, x='Year', y='Close', marker='o')  # marker='o' adds dots at each data point\n",
    "\n",
    "plt.title('Mean Close Price per Year')\n",
    "plt.xlabel('Year')\n",
    "plt.ylabel('Mean Close Price')\n",
    "\n",
    "plt.xticks(0, len(lst_year), labels=lst_year, rotation=45)  # Plot every nth year\n",
    "plt.grid(True)  # Adds a grid for better readability\n",
    "\n",
    "plt.tight_layout()\n",
    "plt.show()\n"
   ],
   "metadata": {
    "collapsed": false,
    "ExecuteTime": {
     "end_time": "2023-11-13T08:36:42.136668Z",
     "start_time": "2023-11-13T08:36:41.610218Z"
    }
   },
   "id": "fc20093f7c9a7a36"
  },
  {
   "cell_type": "code",
   "execution_count": null,
   "outputs": [],
   "source": [
    "lst_month= monthly_mean['Month'].tolist()\n",
    "\n",
    "# Using a line plot instead\n",
    "plt.figure(figsize=(12, 6))  # Adjust the figure size as needed\n",
    "sns.lineplot(data=monthly_mean, x='Month', y='Close', marker='o')  # marker='o' adds dots at each data point\n",
    "\n",
    "plt.title('Mean Close Price per Month')\n",
    "plt.xlabel('Month')\n",
    "plt.ylabel('Mean Close Price')\n",
    "\n",
    "plt.xticks(0, len(lst_month), labels=lst_month)  # Plot every nth month\n",
    "plt.grid(True)  # Adds a grid for better readability\n",
    "\n",
    "plt.tight_layout()\n",
    "plt.show()"
   ],
   "metadata": {
    "collapsed": false,
    "ExecuteTime": {
     "start_time": "2023-11-13T08:36:42.136600Z"
    }
   },
   "id": "97857fffe1e7ecc8"
  },
  {
   "cell_type": "markdown",
   "source": [
    "### Identifying Seasonality with Fourier Transform"
   ],
   "metadata": {
    "collapsed": false
   },
   "id": "592249d7acbc0f7"
  },
  {
   "cell_type": "code",
   "execution_count": null,
   "outputs": [],
   "source": [
    "'''# Fourier Transform\n",
    "from numpy.fft import rfft\n",
    "import numpy as np\n",
    "\n",
    "# Choose a relevant column, for example, 'Close'\n",
    "data = train_df['Close'].values\n",
    "\n",
    "# Apply Fourier Transform\n",
    "fourier_transform = rfft(data)\n",
    "\n",
    "# Get frequencies\n",
    "frequencies = np.fft.rfftfreq(len(data), d=1)  # d is the sample spacing\n",
    "amplitudes = np.abs(fourier_transform)"
   ],
   "metadata": {
    "collapsed": false
   },
   "id": "f792229b9541f100"
  },
  {
   "cell_type": "code",
   "execution_count": null,
   "outputs": [],
   "source": [
    "plt.figure(figsize=(14, 6))\n",
    "plt.stem(frequencies, amplitudes)\n",
    "plt.xscale('log')\n",
    "plt.yscale('log')\n",
    "plt.xlabel('Frequency')\n",
    "plt.ylabel('Amplitude')\n",
    "plt.title('Fourier Transform - Frequency Domain')\n",
    "plt.show()"
   ],
   "metadata": {
    "collapsed": false,
    "ExecuteTime": {
     "start_time": "2023-11-12T15:18:59.999461Z"
    }
   },
   "id": "6fd091706fc062f9"
  },
  {
   "cell_type": "code",
   "execution_count": null,
   "outputs": [],
   "source": [
    "from scipy.signal import find_peaks\n",
    "\n",
    "# Find Peaks in the Amplitudes to Identify Significant Frequencies\n",
    "peaks, _ = find_peaks(amplitudes, height=0)  # Adjust height as needed to filter out noise\n",
    "\n",
    "# Extract Frequencies corresponding to the Peaks\n",
    "significant_freqs = frequencies[peaks]\n",
    "significant_amps = amplitudes[peaks]\n",
    "\n",
    "# Optional - Plot the Frequencies and Amplitudes\n",
    "plt.figure(figsize=(14, 6))\n",
    "plt.stem(significant_freqs, significant_amps)\n",
    "plt.xscale('log')\n",
    "plt.yscale('log')\n",
    "plt.xlabel('Frequency')\n",
    "plt.ylabel('Amplitude')\n",
    "plt.title('Significant Frequencies in the Fourier Transform')\n",
    "plt.show()\n",
    "\n",
    "# Convert Frequencies to Time Periods\n",
    "significant_periods = 1 / significant_freqs\n",
    "\n",
    "# Print the significant frequencies and their corresponding periods\n",
    "for freq, period in zip(significant_freqs, significant_periods):\n",
    "    print(f\"Frequency: {freq}, Period: {period} (time units)\")"
   ],
   "metadata": {
    "collapsed": false,
    "ExecuteTime": {
     "start_time": "2023-11-12T15:19:00.000726Z"
    }
   },
   "id": "8e028a04e637612e"
  },
  {
   "cell_type": "code",
   "execution_count": null,
   "outputs": [],
   "source": [
    "# Define Frequency Range for Filtering\n",
    "# Example: Keeping frequencies between 0.01 and 0.5\n",
    "min_freq = 0.000001\n",
    "max_freq = 0.0001\n",
    "\n",
    "# Filter out frequencies outside this range\n",
    "filtered_indices = np.where((frequencies >= min_freq) & (frequencies <= max_freq))\n",
    "filtered_freqs = frequencies[filtered_indices]\n",
    "filtered_amps = amplitudes[filtered_indices]\n",
    "\n",
    "# Find Peaks within the Filtered Frequencies\n",
    "peaks, _ = find_peaks(filtered_amps, height=0)  # Adjust height as needed\n",
    "\n",
    "# Extract Frequencies and Amplitudes of the Peaks\n",
    "significant_freqs = filtered_freqs[peaks]\n",
    "significant_amps = filtered_amps[peaks]\n",
    "\n",
    "# Plot the Filtered Frequencies and Amplitudes\n",
    "plt.figure(figsize=(14, 6))\n",
    "plt.stem(significant_freqs, significant_amps)\n",
    "plt.xscale('log')\n",
    "plt.yscale('log')\n",
    "plt.xlabel('Frequency')\n",
    "plt.ylabel('Amplitude')\n",
    "plt.title('Significant Frequencies within Filtered Range')\n",
    "plt.show()\n",
    "\n",
    "# Convert Frequencies to Time Periods\n",
    "significant_periods = 1 / significant_freqs\n",
    "\n",
    "# Print the significant frequencies and their corresponding periods\n",
    "for freq, period in zip(significant_freqs, significant_periods):\n",
    "    print(f\"Frequency: {freq}, Period: {period} (time units)\")"
   ],
   "metadata": {
    "collapsed": false,
    "ExecuteTime": {
     "start_time": "2023-11-12T15:19:00.001822Z"
    }
   },
   "id": "cfe20e07e371c9e8"
  },
  {
   "cell_type": "code",
   "execution_count": null,
   "outputs": [],
   "source": [
    "# Convert Frequencies to Periods\n",
    "significant_periods = 1 / significant_freqs\n",
    "\n",
    "# Interpretation\n",
    "for freq, period in zip(significant_freqs, significant_periods):\n",
    "    # Approximate the period to the nearest integer for easier interpretation\n",
    "    approx_period = round(period)\n",
    "\n",
    "    if approx_period == 1:\n",
    "        print(f\"Frequency: {freq} - Pattern with period of {approx_period} days\")'''"
   ],
   "metadata": {
    "collapsed": false,
    "ExecuteTime": {
     "start_time": "2023-11-12T15:19:00.002945Z"
    }
   },
   "id": "264fafcb8eda20ea"
  },
  {
   "cell_type": "markdown",
   "source": [
    "### Lag Features"
   ],
   "metadata": {
    "collapsed": false
   },
   "id": "9a2451c8d25979cf"
  },
  {
   "cell_type": "code",
   "execution_count": null,
   "outputs": [],
   "source": [
    "''''# Create a copy of the DataFrame\n",
    "lag_df = train_df.copy()\n",
    "\n",
    "# Now proceed with sorting and creating lag features\n",
    "lag_df.sort_values(by=['Ticker', 'Date'], inplace=True)\n",
    "\n",
    "# Assuming you want to create lag features for the 'Close' price\n",
    "number_of_lags = 3 \n",
    "\n",
    "for lag in range(1, number_of_lags + 1):\n",
    "    lag_df[f'lag_{lag}'] = lag_df.groupby('Ticker')['Close'].shift(lag)"
   ],
   "metadata": {
    "collapsed": false,
    "ExecuteTime": {
     "start_time": "2023-11-12T15:19:00.004063Z"
    }
   },
   "id": "875ca8e0bd8721a1"
  },
  {
   "cell_type": "code",
   "execution_count": null,
   "outputs": [],
   "source": [
    "lag_df.head()"
   ],
   "metadata": {
    "collapsed": false,
    "ExecuteTime": {
     "start_time": "2023-11-12T15:19:00.005326Z"
    }
   },
   "id": "25e9c53199e66bd7"
  },
  {
   "cell_type": "code",
   "execution_count": null,
   "outputs": [],
   "source": [
    "def fill_with_first_close(group):\n",
    "    for lag in range(1, number_of_lags + 1):\n",
    "        first_valid_index = group['Close'].first_valid_index()\n",
    "        first_valid_value = group.loc[first_valid_index, 'Close'] if first_valid_index is not None else 0\n",
    "        group[f'lag_{lag}'] = group[f'lag_{lag}'].fillna(first_valid_value)\n",
    "    return group\n",
    "\n",
    "lag_df_updated = lag_df.groupby('Ticker').apply(fill_with_first_close)"
   ],
   "metadata": {
    "collapsed": false,
    "ExecuteTime": {
     "start_time": "2023-11-12T15:19:00.006623Z"
    }
   },
   "id": "e21e645c08bc917e"
  },
  {
   "cell_type": "code",
   "execution_count": null,
   "outputs": [],
   "source": [
    "lag_df_updated.head()"
   ],
   "metadata": {
    "collapsed": false,
    "ExecuteTime": {
     "start_time": "2023-11-12T15:19:00.007485Z"
    }
   },
   "id": "9b5d966f4624ea84"
  },
  {
   "cell_type": "markdown",
   "source": [
    "### Window Features"
   ],
   "metadata": {
    "collapsed": false
   },
   "id": "2de8a89f8a0b7dc4"
  },
  {
   "cell_type": "code",
   "execution_count": null,
   "outputs": [],
   "source": [
    "# Window size of 20 trading days\n",
    "window_size = 20\n",
    "\n",
    "# Custom function to apply the incremental mean; important because otherwise first 19 days would have null values \n",
    "def incremental_mean(group):\n",
    "    cumsum = group['Close'].cumsum()\n",
    "    count = range(1, len(group) + 1)\n",
    "    group['rolling_mean_monthly'] = cumsum / count\n",
    "    return group\n",
    "\n",
    "# Apply the incremental mean for the first 20 days for each ticker\n",
    "lag_df_encoded = lag_df_encoded.groupby('Ticker_Encoded').apply(lambda x: incremental_mean(x.iloc[:window_size]))\n",
    "\n",
    "lag_df_encoded.reset_index(drop=True, inplace=True)\n",
    "\n",
    "# For the rest of the days, apply the normal rolling mean\n",
    "lag_df_encoded['rolling_mean_monthly'] = lag_df_encoded.groupby('Ticker_Encoded')['Close'].transform(lambda x: x.rolling(window=window_size, min_periods=1).mean())\n",
    "\n",
    "lag_df_encoded'''"
   ],
   "metadata": {
    "collapsed": false,
    "ExecuteTime": {
     "start_time": "2023-11-12T15:19:00.008751Z"
    }
   },
   "id": "a03dc1eebe700e2e"
  },
  {
   "cell_type": "markdown",
   "source": [
    "### Ticket Encoding"
   ],
   "metadata": {
    "collapsed": false
   },
   "id": "d9200bacfb7f949b"
  },
  {
   "cell_type": "code",
   "execution_count": 9,
   "outputs": [
    {
     "name": "stderr",
     "output_type": "stream",
     "text": [
      "/Users/lucapetracca/anaconda3/envs/dmts/lib/python3.10/site-packages/category_encoders/utils.py:28: FutureWarning: is_categorical_dtype is deprecated and will be removed in a future version. Use isinstance(dtype, CategoricalDtype) instead\n",
      "  elif pd.api.types.is_categorical_dtype(cols):\n",
      "/Users/lucapetracca/anaconda3/envs/dmts/lib/python3.10/site-packages/category_encoders/utils.py:50: FutureWarning: is_categorical_dtype is deprecated and will be removed in a future version. Use isinstance(dtype, CategoricalDtype) instead\n",
      "  return pd.api.types.is_categorical_dtype(dtype)\n",
      "/Users/lucapetracca/anaconda3/envs/dmts/lib/python3.10/site-packages/category_encoders/utils.py:50: FutureWarning: is_categorical_dtype is deprecated and will be removed in a future version. Use isinstance(dtype, CategoricalDtype) instead\n",
      "  return pd.api.types.is_categorical_dtype(dtype)\n",
      "/Users/lucapetracca/anaconda3/envs/dmts/lib/python3.10/site-packages/category_encoders/utils.py:50: FutureWarning: is_categorical_dtype is deprecated and will be removed in a future version. Use isinstance(dtype, CategoricalDtype) instead\n",
      "  return pd.api.types.is_categorical_dtype(dtype)\n",
      "/Users/lucapetracca/anaconda3/envs/dmts/lib/python3.10/site-packages/category_encoders/utils.py:50: FutureWarning: is_categorical_dtype is deprecated and will be removed in a future version. Use isinstance(dtype, CategoricalDtype) instead\n",
      "  return pd.api.types.is_categorical_dtype(dtype)\n"
     ]
    },
    {
     "data": {
      "text/plain": "              Date         Low        Open      Volume        High  \\\n0       1970-01-02   18.297873   18.297873      7520.0   18.936171   \n1       1970-01-02    0.878906    0.000000    128000.0    0.886719   \n2       1970-01-02    0.703125    0.000000    232000.0    0.718750   \n3       1970-01-02    1.218750    1.250000   1195200.0    1.253472   \n4       1970-01-02    1.708984    1.710938    832000.0    1.722656   \n...            ...         ...         ...         ...         ...   \n2916661 2019-10-08   36.470001   36.529999   2139300.0   37.060001   \n2916662 2019-10-08  255.100006  259.359985    258200.0  263.709991   \n2916663 2019-10-08   33.709999   34.310001  10686900.0   34.470001   \n2916664 2019-10-08  169.513336  174.083328   1554900.0  174.733337   \n2916665 2019-10-08  190.100006  190.139999       954.0  190.139999   \n\n              Close  Year  Month  Day  Ticker_0  Ticker_1  Ticker_2  Ticker_3  \\\n0         18.936171  1970      1    2         0         0         0         0   \n1          0.882813  1970      1    2         0         0         0         0   \n2          0.718750  1970      1    2         0         0         0         0   \n3          1.218750  1970      1    2         0         0         0         0   \n4          1.718750  1970      1    2         0         0         0         0   \n...             ...   ...    ...  ...       ...       ...       ...       ...   \n2916661   36.619999  2019     10    8         0         0         1         1   \n2916662  260.480011  2019     10    8         0         0         1         0   \n2916663   33.880001  2019     10    8         1         0         1         1   \n2916664  169.666672  2019     10    8         1         0         0         1   \n2916665  190.139999  2019     10    8         0         0         0         1   \n\n         Ticker_4  Ticker_5  Ticker_6  Ticker_7  Ticker_8  \n0               0         0         0         0         1  \n1               0         0         0         1         0  \n2               0         0         0         1         1  \n3               0         0         1         0         0  \n4               0         0         1         0         1  \n...           ...       ...       ...       ...       ...  \n2916661         1         1         0         1         1  \n2916662         1         0         0         0         0  \n2916663         0         0         1         1         0  \n2916664         0         0         1         0         0  \n2916665         1         0         1         1         1  \n\n[2916666 rows x 18 columns]",
      "text/html": "<div>\n<style scoped>\n    .dataframe tbody tr th:only-of-type {\n        vertical-align: middle;\n    }\n\n    .dataframe tbody tr th {\n        vertical-align: top;\n    }\n\n    .dataframe thead th {\n        text-align: right;\n    }\n</style>\n<table border=\"1\" class=\"dataframe\">\n  <thead>\n    <tr style=\"text-align: right;\">\n      <th></th>\n      <th>Date</th>\n      <th>Low</th>\n      <th>Open</th>\n      <th>Volume</th>\n      <th>High</th>\n      <th>Close</th>\n      <th>Year</th>\n      <th>Month</th>\n      <th>Day</th>\n      <th>Ticker_0</th>\n      <th>Ticker_1</th>\n      <th>Ticker_2</th>\n      <th>Ticker_3</th>\n      <th>Ticker_4</th>\n      <th>Ticker_5</th>\n      <th>Ticker_6</th>\n      <th>Ticker_7</th>\n      <th>Ticker_8</th>\n    </tr>\n  </thead>\n  <tbody>\n    <tr>\n      <th>0</th>\n      <td>1970-01-02</td>\n      <td>18.297873</td>\n      <td>18.297873</td>\n      <td>7520.0</td>\n      <td>18.936171</td>\n      <td>18.936171</td>\n      <td>1970</td>\n      <td>1</td>\n      <td>2</td>\n      <td>0</td>\n      <td>0</td>\n      <td>0</td>\n      <td>0</td>\n      <td>0</td>\n      <td>0</td>\n      <td>0</td>\n      <td>0</td>\n      <td>1</td>\n    </tr>\n    <tr>\n      <th>1</th>\n      <td>1970-01-02</td>\n      <td>0.878906</td>\n      <td>0.000000</td>\n      <td>128000.0</td>\n      <td>0.886719</td>\n      <td>0.882813</td>\n      <td>1970</td>\n      <td>1</td>\n      <td>2</td>\n      <td>0</td>\n      <td>0</td>\n      <td>0</td>\n      <td>0</td>\n      <td>0</td>\n      <td>0</td>\n      <td>0</td>\n      <td>1</td>\n      <td>0</td>\n    </tr>\n    <tr>\n      <th>2</th>\n      <td>1970-01-02</td>\n      <td>0.703125</td>\n      <td>0.000000</td>\n      <td>232000.0</td>\n      <td>0.718750</td>\n      <td>0.718750</td>\n      <td>1970</td>\n      <td>1</td>\n      <td>2</td>\n      <td>0</td>\n      <td>0</td>\n      <td>0</td>\n      <td>0</td>\n      <td>0</td>\n      <td>0</td>\n      <td>0</td>\n      <td>1</td>\n      <td>1</td>\n    </tr>\n    <tr>\n      <th>3</th>\n      <td>1970-01-02</td>\n      <td>1.218750</td>\n      <td>1.250000</td>\n      <td>1195200.0</td>\n      <td>1.253472</td>\n      <td>1.218750</td>\n      <td>1970</td>\n      <td>1</td>\n      <td>2</td>\n      <td>0</td>\n      <td>0</td>\n      <td>0</td>\n      <td>0</td>\n      <td>0</td>\n      <td>0</td>\n      <td>1</td>\n      <td>0</td>\n      <td>0</td>\n    </tr>\n    <tr>\n      <th>4</th>\n      <td>1970-01-02</td>\n      <td>1.708984</td>\n      <td>1.710938</td>\n      <td>832000.0</td>\n      <td>1.722656</td>\n      <td>1.718750</td>\n      <td>1970</td>\n      <td>1</td>\n      <td>2</td>\n      <td>0</td>\n      <td>0</td>\n      <td>0</td>\n      <td>0</td>\n      <td>0</td>\n      <td>0</td>\n      <td>1</td>\n      <td>0</td>\n      <td>1</td>\n    </tr>\n    <tr>\n      <th>...</th>\n      <td>...</td>\n      <td>...</td>\n      <td>...</td>\n      <td>...</td>\n      <td>...</td>\n      <td>...</td>\n      <td>...</td>\n      <td>...</td>\n      <td>...</td>\n      <td>...</td>\n      <td>...</td>\n      <td>...</td>\n      <td>...</td>\n      <td>...</td>\n      <td>...</td>\n      <td>...</td>\n      <td>...</td>\n      <td>...</td>\n    </tr>\n    <tr>\n      <th>2916661</th>\n      <td>2019-10-08</td>\n      <td>36.470001</td>\n      <td>36.529999</td>\n      <td>2139300.0</td>\n      <td>37.060001</td>\n      <td>36.619999</td>\n      <td>2019</td>\n      <td>10</td>\n      <td>8</td>\n      <td>0</td>\n      <td>0</td>\n      <td>1</td>\n      <td>1</td>\n      <td>1</td>\n      <td>1</td>\n      <td>0</td>\n      <td>1</td>\n      <td>1</td>\n    </tr>\n    <tr>\n      <th>2916662</th>\n      <td>2019-10-08</td>\n      <td>255.100006</td>\n      <td>259.359985</td>\n      <td>258200.0</td>\n      <td>263.709991</td>\n      <td>260.480011</td>\n      <td>2019</td>\n      <td>10</td>\n      <td>8</td>\n      <td>0</td>\n      <td>0</td>\n      <td>1</td>\n      <td>0</td>\n      <td>1</td>\n      <td>0</td>\n      <td>0</td>\n      <td>0</td>\n      <td>0</td>\n    </tr>\n    <tr>\n      <th>2916663</th>\n      <td>2019-10-08</td>\n      <td>33.709999</td>\n      <td>34.310001</td>\n      <td>10686900.0</td>\n      <td>34.470001</td>\n      <td>33.880001</td>\n      <td>2019</td>\n      <td>10</td>\n      <td>8</td>\n      <td>1</td>\n      <td>0</td>\n      <td>1</td>\n      <td>1</td>\n      <td>0</td>\n      <td>0</td>\n      <td>1</td>\n      <td>1</td>\n      <td>0</td>\n    </tr>\n    <tr>\n      <th>2916664</th>\n      <td>2019-10-08</td>\n      <td>169.513336</td>\n      <td>174.083328</td>\n      <td>1554900.0</td>\n      <td>174.733337</td>\n      <td>169.666672</td>\n      <td>2019</td>\n      <td>10</td>\n      <td>8</td>\n      <td>1</td>\n      <td>0</td>\n      <td>0</td>\n      <td>1</td>\n      <td>0</td>\n      <td>0</td>\n      <td>1</td>\n      <td>0</td>\n      <td>0</td>\n    </tr>\n    <tr>\n      <th>2916665</th>\n      <td>2019-10-08</td>\n      <td>190.100006</td>\n      <td>190.139999</td>\n      <td>954.0</td>\n      <td>190.139999</td>\n      <td>190.139999</td>\n      <td>2019</td>\n      <td>10</td>\n      <td>8</td>\n      <td>0</td>\n      <td>0</td>\n      <td>0</td>\n      <td>1</td>\n      <td>1</td>\n      <td>0</td>\n      <td>1</td>\n      <td>1</td>\n      <td>1</td>\n    </tr>\n  </tbody>\n</table>\n<p>2916666 rows × 18 columns</p>\n</div>"
     },
     "execution_count": 9,
     "metadata": {},
     "output_type": "execute_result"
    }
   ],
   "source": [
    "import category_encoders as ce\n",
    "\n",
    "df_encoded = train_df.copy()\n",
    "\n",
    "def encode_ticker(df_encoded: pd.DataFrame) -> pd.DataFrame:\n",
    "    encoder = ce.BinaryEncoder(cols=[\"Ticker\"])\n",
    "    df_binary_encoded = encoder.fit_transform(df_encoded[\"Ticker\"])\n",
    "    df_binary_encoded = df_binary_encoded.astype(\"Int8\")\n",
    "    df_encoded = df_encoded.join(df_binary_encoded)\n",
    "    df_encoded.drop(\"Ticker\", axis=1, inplace=True)\n",
    "    return df_encoded\n",
    "\n",
    "df_encoded = encode_ticker(df_encoded)\n",
    "df_encoded"
   ],
   "metadata": {
    "collapsed": false,
    "ExecuteTime": {
     "end_time": "2023-11-13T08:42:02.475120Z",
     "start_time": "2023-11-13T08:42:01.040469Z"
    }
   },
   "id": "cf397d5203563b51"
  },
  {
   "cell_type": "markdown",
   "source": [
    "### Seasonality Index\n"
   ],
   "metadata": {
    "collapsed": false
   },
   "id": "353da5edcf760583"
  },
  {
   "cell_type": "code",
   "execution_count": 12,
   "outputs": [
    {
     "data": {
      "text/plain": "        Date        Low       Open     Volume       High      Close  Year  \\\n0 1970-01-02  18.297873  18.297873     7520.0  18.936171  18.936171  1970   \n1 1970-01-02   0.878906   0.000000   128000.0   0.886719   0.882813  1970   \n2 1970-01-02   0.703125   0.000000   232000.0   0.718750   0.718750  1970   \n3 1970-01-02   1.218750   1.250000  1195200.0   1.253472   1.218750  1970   \n4 1970-01-02   1.708984   1.710938   832000.0   1.722656   1.718750  1970   \n5 1970-01-02   6.843750   6.851563    72000.0   6.890625   6.851563  1970   \n6 1970-01-02   0.353909   0.353909  2830950.0   0.364198   0.364198  1970   \n7 1970-01-02   0.683357   0.688495  1109377.0   0.689779   0.683357  1970   \n8 1970-01-02   3.447917   3.541667   276000.0   3.541667   3.458333  1970   \n9 1970-01-02   0.925926   0.925926   634838.0   0.979424   0.979424  1970   \n\n   Month  Day  Ticker_0  ...  Ticker_2  Ticker_3  Ticker_4  Ticker_5  \\\n0      1    2         0  ...         0         0         0         0   \n1      1    2         0  ...         0         0         0         0   \n2      1    2         0  ...         0         0         0         0   \n3      1    2         0  ...         0         0         0         0   \n4      1    2         0  ...         0         0         0         0   \n5      1    2         0  ...         0         0         0         0   \n6      1    2         0  ...         0         0         0         0   \n7      1    2         0  ...         0         0         0         1   \n8      1    2         0  ...         0         0         0         1   \n9      1    2         0  ...         0         0         0         1   \n\n   Ticker_6  Ticker_7  Ticker_8  Month_Category_Bearish  \\\n0         0         0         1                       1   \n1         0         1         0                       1   \n2         0         1         1                       1   \n3         1         0         0                       1   \n4         1         0         1                       1   \n5         1         1         0                       1   \n6         1         1         1                       1   \n7         0         0         0                       1   \n8         0         0         1                       1   \n9         0         1         0                       1   \n\n   Month_Category_Bullish  Month_Category_Normal  \n0                       0                      0  \n1                       0                      0  \n2                       0                      0  \n3                       0                      0  \n4                       0                      0  \n5                       0                      0  \n6                       0                      0  \n7                       0                      0  \n8                       0                      0  \n9                       0                      0  \n\n[10 rows x 21 columns]",
      "text/html": "<div>\n<style scoped>\n    .dataframe tbody tr th:only-of-type {\n        vertical-align: middle;\n    }\n\n    .dataframe tbody tr th {\n        vertical-align: top;\n    }\n\n    .dataframe thead th {\n        text-align: right;\n    }\n</style>\n<table border=\"1\" class=\"dataframe\">\n  <thead>\n    <tr style=\"text-align: right;\">\n      <th></th>\n      <th>Date</th>\n      <th>Low</th>\n      <th>Open</th>\n      <th>Volume</th>\n      <th>High</th>\n      <th>Close</th>\n      <th>Year</th>\n      <th>Month</th>\n      <th>Day</th>\n      <th>Ticker_0</th>\n      <th>...</th>\n      <th>Ticker_2</th>\n      <th>Ticker_3</th>\n      <th>Ticker_4</th>\n      <th>Ticker_5</th>\n      <th>Ticker_6</th>\n      <th>Ticker_7</th>\n      <th>Ticker_8</th>\n      <th>Month_Category_Bearish</th>\n      <th>Month_Category_Bullish</th>\n      <th>Month_Category_Normal</th>\n    </tr>\n  </thead>\n  <tbody>\n    <tr>\n      <th>0</th>\n      <td>1970-01-02</td>\n      <td>18.297873</td>\n      <td>18.297873</td>\n      <td>7520.0</td>\n      <td>18.936171</td>\n      <td>18.936171</td>\n      <td>1970</td>\n      <td>1</td>\n      <td>2</td>\n      <td>0</td>\n      <td>...</td>\n      <td>0</td>\n      <td>0</td>\n      <td>0</td>\n      <td>0</td>\n      <td>0</td>\n      <td>0</td>\n      <td>1</td>\n      <td>1</td>\n      <td>0</td>\n      <td>0</td>\n    </tr>\n    <tr>\n      <th>1</th>\n      <td>1970-01-02</td>\n      <td>0.878906</td>\n      <td>0.000000</td>\n      <td>128000.0</td>\n      <td>0.886719</td>\n      <td>0.882813</td>\n      <td>1970</td>\n      <td>1</td>\n      <td>2</td>\n      <td>0</td>\n      <td>...</td>\n      <td>0</td>\n      <td>0</td>\n      <td>0</td>\n      <td>0</td>\n      <td>0</td>\n      <td>1</td>\n      <td>0</td>\n      <td>1</td>\n      <td>0</td>\n      <td>0</td>\n    </tr>\n    <tr>\n      <th>2</th>\n      <td>1970-01-02</td>\n      <td>0.703125</td>\n      <td>0.000000</td>\n      <td>232000.0</td>\n      <td>0.718750</td>\n      <td>0.718750</td>\n      <td>1970</td>\n      <td>1</td>\n      <td>2</td>\n      <td>0</td>\n      <td>...</td>\n      <td>0</td>\n      <td>0</td>\n      <td>0</td>\n      <td>0</td>\n      <td>0</td>\n      <td>1</td>\n      <td>1</td>\n      <td>1</td>\n      <td>0</td>\n      <td>0</td>\n    </tr>\n    <tr>\n      <th>3</th>\n      <td>1970-01-02</td>\n      <td>1.218750</td>\n      <td>1.250000</td>\n      <td>1195200.0</td>\n      <td>1.253472</td>\n      <td>1.218750</td>\n      <td>1970</td>\n      <td>1</td>\n      <td>2</td>\n      <td>0</td>\n      <td>...</td>\n      <td>0</td>\n      <td>0</td>\n      <td>0</td>\n      <td>0</td>\n      <td>1</td>\n      <td>0</td>\n      <td>0</td>\n      <td>1</td>\n      <td>0</td>\n      <td>0</td>\n    </tr>\n    <tr>\n      <th>4</th>\n      <td>1970-01-02</td>\n      <td>1.708984</td>\n      <td>1.710938</td>\n      <td>832000.0</td>\n      <td>1.722656</td>\n      <td>1.718750</td>\n      <td>1970</td>\n      <td>1</td>\n      <td>2</td>\n      <td>0</td>\n      <td>...</td>\n      <td>0</td>\n      <td>0</td>\n      <td>0</td>\n      <td>0</td>\n      <td>1</td>\n      <td>0</td>\n      <td>1</td>\n      <td>1</td>\n      <td>0</td>\n      <td>0</td>\n    </tr>\n    <tr>\n      <th>5</th>\n      <td>1970-01-02</td>\n      <td>6.843750</td>\n      <td>6.851563</td>\n      <td>72000.0</td>\n      <td>6.890625</td>\n      <td>6.851563</td>\n      <td>1970</td>\n      <td>1</td>\n      <td>2</td>\n      <td>0</td>\n      <td>...</td>\n      <td>0</td>\n      <td>0</td>\n      <td>0</td>\n      <td>0</td>\n      <td>1</td>\n      <td>1</td>\n      <td>0</td>\n      <td>1</td>\n      <td>0</td>\n      <td>0</td>\n    </tr>\n    <tr>\n      <th>6</th>\n      <td>1970-01-02</td>\n      <td>0.353909</td>\n      <td>0.353909</td>\n      <td>2830950.0</td>\n      <td>0.364198</td>\n      <td>0.364198</td>\n      <td>1970</td>\n      <td>1</td>\n      <td>2</td>\n      <td>0</td>\n      <td>...</td>\n      <td>0</td>\n      <td>0</td>\n      <td>0</td>\n      <td>0</td>\n      <td>1</td>\n      <td>1</td>\n      <td>1</td>\n      <td>1</td>\n      <td>0</td>\n      <td>0</td>\n    </tr>\n    <tr>\n      <th>7</th>\n      <td>1970-01-02</td>\n      <td>0.683357</td>\n      <td>0.688495</td>\n      <td>1109377.0</td>\n      <td>0.689779</td>\n      <td>0.683357</td>\n      <td>1970</td>\n      <td>1</td>\n      <td>2</td>\n      <td>0</td>\n      <td>...</td>\n      <td>0</td>\n      <td>0</td>\n      <td>0</td>\n      <td>1</td>\n      <td>0</td>\n      <td>0</td>\n      <td>0</td>\n      <td>1</td>\n      <td>0</td>\n      <td>0</td>\n    </tr>\n    <tr>\n      <th>8</th>\n      <td>1970-01-02</td>\n      <td>3.447917</td>\n      <td>3.541667</td>\n      <td>276000.0</td>\n      <td>3.541667</td>\n      <td>3.458333</td>\n      <td>1970</td>\n      <td>1</td>\n      <td>2</td>\n      <td>0</td>\n      <td>...</td>\n      <td>0</td>\n      <td>0</td>\n      <td>0</td>\n      <td>1</td>\n      <td>0</td>\n      <td>0</td>\n      <td>1</td>\n      <td>1</td>\n      <td>0</td>\n      <td>0</td>\n    </tr>\n    <tr>\n      <th>9</th>\n      <td>1970-01-02</td>\n      <td>0.925926</td>\n      <td>0.925926</td>\n      <td>634838.0</td>\n      <td>0.979424</td>\n      <td>0.979424</td>\n      <td>1970</td>\n      <td>1</td>\n      <td>2</td>\n      <td>0</td>\n      <td>...</td>\n      <td>0</td>\n      <td>0</td>\n      <td>0</td>\n      <td>1</td>\n      <td>0</td>\n      <td>1</td>\n      <td>0</td>\n      <td>1</td>\n      <td>0</td>\n      <td>0</td>\n    </tr>\n  </tbody>\n</table>\n<p>10 rows × 21 columns</p>\n</div>"
     },
     "execution_count": 12,
     "metadata": {},
     "output_type": "execute_result"
    }
   ],
   "source": [
    "from sklearn.preprocessing import OneHotEncoder\n",
    "\n",
    "df = df_encoded.copy()\n",
    "\n",
    "def categorize_month(month):\n",
    "    if month in [4, 5, 7, 8, 9]:\n",
    "        return \"Bullish\"\n",
    "    elif month in [1, 10, 11, 12]:\n",
    "        return \"Bearish\"\n",
    "    else:\n",
    "        return \"Normal\"\n",
    "\n",
    "df[\"Month_Category\"] = df[\"Month\"].apply(categorize_month)\n",
    "\n",
    "encoder = OneHotEncoder()\n",
    "encoded_data = encoder.fit_transform(df[[\"Month_Category\"]]).toarray()\n",
    "\n",
    "encoded_df = pd.DataFrame(\n",
    "    encoded_data, columns=encoder.get_feature_names_out([\"Month_Category\"])\n",
    ").astype(\"Int8\")\n",
    "\n",
    "df_final = pd.concat([df, encoded_df], axis=1)\n",
    "df_final.drop([\"Month_Category\"], axis=1, inplace=True)\n",
    "df_final.head(10)"
   ],
   "metadata": {
    "collapsed": false,
    "ExecuteTime": {
     "end_time": "2023-11-13T08:44:30.143958Z",
     "start_time": "2023-11-13T08:44:29.037557Z"
    }
   },
   "id": "bea2fa3aa020c389"
  },
  {
   "cell_type": "code",
   "execution_count": null,
   "outputs": [],
   "source": [
    "#df_one_hot.sort_values(by=\"Date\", inplace=True)\n",
    "#df_one_hot.reset_index(drop=True)\n",
    "#df_one_hot"
   ],
   "metadata": {
    "collapsed": false,
    "ExecuteTime": {
     "start_time": "2023-11-12T15:19:00.010295Z"
    }
   },
   "id": "a89ecced6797cfee"
  },
  {
   "cell_type": "code",
   "execution_count": 14,
   "outputs": [],
   "source": [
    "df_final.head(10).to_csv('data/sp500/SP500_training_encoded.csv', index=False)"
   ],
   "metadata": {
    "collapsed": false,
    "ExecuteTime": {
     "end_time": "2023-11-13T08:46:09.679961Z",
     "start_time": "2023-11-13T08:46:09.663632Z"
    }
   },
   "id": "4c1bf2c4cc457ed3"
  }
 ],
 "metadata": {
  "kernelspec": {
   "display_name": "Python 3",
   "language": "python",
   "name": "python3"
  },
  "language_info": {
   "codemirror_mode": {
    "name": "ipython",
    "version": 2
   },
   "file_extension": ".py",
   "mimetype": "text/x-python",
   "name": "python",
   "nbconvert_exporter": "python",
   "pygments_lexer": "ipython2",
   "version": "2.7.6"
  }
 },
 "nbformat": 4,
 "nbformat_minor": 5
}
