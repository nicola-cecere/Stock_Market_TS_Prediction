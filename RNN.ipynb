{
 "cells": [
  {
   "cell_type": "code",
   "execution_count": null,
   "metadata": {},
   "outputs": [],
   "source": [
    "from scripts.utils import DataWindow\n",
    "from scripts.utils import compile_and_fit\n",
    "from scripts.utils import add_seasonality, encode_ticker, split_date\n",
    "from tensorflow.keras.models import Sequential\n",
    "from tensorflow.keras.layers import SimpleRNN, Dense, Dropout\n",
    "from sklearn.preprocessing import MinMaxScaler\n",
    "import pandas as pd"
   ]
  },
  {
   "cell_type": "code",
   "execution_count": null,
   "metadata": {},
   "outputs": [],
   "source": [
    "df = pd.read_csv(\"data/sp500/SP500.csv\")\n",
    "df[\"Date\"] = pd.to_datetime(df[\"Date\"])\n",
    "df = df.sort_values(by=\"Date\")\n",
    "n = len(df)\n",
    "\n",
    "train_df = df[0:int(n*0.7)]\n",
    "val_df = df[int(n*0.7):int(n*0.9)]\n",
    "test_df = df[int(n*0.9):]\n",
    "train_df = split_date(train_df)\n",
    "train_df = add_seasonality(train_df)\n",
    "train_df = encode_ticker(train_df)\n",
    "train_df.drop(columns=[\"Date\"], inplace=True)\n",
    "val_df = split_date(val_df)\n",
    "val_df = add_seasonality(val_df)\n",
    "val_df = encode_ticker(val_df)\n",
    "val_df.drop(columns=[\"Date\"], inplace=True)\n",
    "test_df = split_date(test_df)\n",
    "test_df = add_seasonality(test_df)\n",
    "test_df = encode_ticker(test_df)\n",
    "test_df.drop(columns=[\"Date\"], inplace=True)\n",
    "\n",
    "scaler = MinMaxScaler()\n",
    "scaler.fit(train_df)\n",
    "\n",
    "train_df[train_df.columns] = scaler.transform(train_df[train_df.columns])\n",
    "val_df[val_df.columns] = scaler.transform(val_df[val_df.columns])\n",
    "test_df[test_df.columns] = scaler.transform(test_df[test_df.columns])"
   ]
  },
  {
   "cell_type": "code",
   "execution_count": null,
   "metadata": {},
   "outputs": [],
   "source": [
    "window = DataWindow(input_width=21, label_width=21, shift=21,\n",
    "                    train_df=train_df, val_df=val_df, test_df=test_df,\n",
    "                    label_columns=['Close'])"
   ]
  },
  {
   "cell_type": "code",
   "execution_count": null,
   "metadata": {},
   "outputs": [],
   "source": [
    "model = Sequential()\n",
    "model.add(SimpleRNN(units=50, return_sequences=True, input_shape=(21, train_df.shape[1])))\n",
    "model.add(Dropout(0.2))\n",
    "model.add(SimpleRNN(units=50))\n",
    "model.add(Dropout(0.2))\n",
    "model.add(Dense(units=21))\n",
    "model.compile(optimizer='adam', loss='mean_squared_error')"
   ]
  },
  {
   "cell_type": "code",
   "execution_count": null,
   "metadata": {},
   "outputs": [],
   "source": [
    "history = compile_and_fit(model, window)"
   ]
  },
  {
   "cell_type": "code",
   "execution_count": null,
   "metadata": {},
   "outputs": [],
   "source": [
    "val_performance = {}\n",
    "performance = {}\n",
    "\n",
    "val_performance['Dense'] = model.evaluate(window.val)\n",
    "performance['Dense'] = model.evaluate(window.test, verbose=0)"
   ]
  }
 ],
 "metadata": {
  "language_info": {
   "name": "python"
  }
 },
 "nbformat": 4,
 "nbformat_minor": 2
}
